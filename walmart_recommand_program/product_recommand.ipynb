{
 "cells": [
  {
   "attachments": {},
   "cell_type": "markdown",
   "metadata": {},
   "source": [
    "---\n",
    "# 상품 discription 속성을 통한 상품 유사도 필터링\n",
    "### 목적 : 검색 시 유사 상품 출력 \n",
    "\n",
    "### 데이터셋 walmart 소비자 구매데이터\n",
    "- StockCode: 구매별 코드 구분\n",
    "- Description: 상품 설명\n",
    "- UnitPrice: 상품 가격\n",
    "- CustomerID: 고객ID\n",
    "- Country: 구매국가\n",
    "- Quantity: 구매수량\n",
    "---"
   ]
  },
  {
   "cell_type": "code",
   "execution_count": 40,
   "metadata": {},
   "outputs": [],
   "source": [
    "#모듈로딩\n",
    "import pandas as pd\n",
    "import numpy as np\n",
    "import warnings; warnings.filterwarnings('ignore')\n",
    "import matplotlib.pyplot as plt\n",
    "from sklearn.feature_extraction.text import CountVectorizer\n",
    "from sklearn.metrics.pairwise import cosine_similarity\n"
   ]
  },
  {
   "cell_type": "code",
   "execution_count": 2,
   "metadata": {},
   "outputs": [],
   "source": [
    "#데이터 로딩\n",
    "product_df = pd.read_excel(\"Online Retail.xlsx\")"
   ]
  },
  {
   "cell_type": "code",
   "execution_count": 151,
   "metadata": {},
   "outputs": [
    {
     "data": {
      "text/plain": [
       "StockCode           0\n",
       "Description      1454\n",
       "Quantity            0\n",
       "UnitPrice           0\n",
       "CustomerID     135080\n",
       "Country             0\n",
       "dtype: int64"
      ]
     },
     "execution_count": 151,
     "metadata": {},
     "output_type": "execute_result"
    }
   ],
   "source": [
    "#결측치 확인\n",
    "product_copy_df = product_df.copy()\n",
    "product_copy_df.drop(['InvoiceNo','InvoiceDate'], axis=1,inplace=True)\n",
    "product_copy_df.isnull().sum()"
   ]
  },
  {
   "cell_type": "code",
   "execution_count": 152,
   "metadata": {},
   "outputs": [
    {
     "name": "stdout",
     "output_type": "stream",
     "text": [
      "1454\n",
      "1454\n",
      "<class 'pandas.core.frame.DataFrame'>\n",
      "RangeIndex: 406829 entries, 0 to 406828\n",
      "Data columns (total 6 columns):\n",
      " #   Column       Non-Null Count   Dtype  \n",
      "---  ------       --------------   -----  \n",
      " 0   StockCode    406829 non-null  object \n",
      " 1   Description  406829 non-null  object \n",
      " 2   Quantity     406829 non-null  int64  \n",
      " 3   UnitPrice    406829 non-null  float64\n",
      " 4   CustomerID   406829 non-null  float64\n",
      " 5   Country      406829 non-null  object \n",
      "dtypes: float64(2), int64(1), object(3)\n",
      "memory usage: 18.6+ MB\n"
     ]
    }
   ],
   "source": [
    "#결측치 처리\n",
    "print(product_copy_df['Description'].isnull().sum())\n",
    "x = product_copy_df[product_copy_df['Description'].isnull() ==True]\n",
    "print(x.CustomerID.isnull().sum())\n",
    "#CustomerID는 결측치 처리를 Imputer를 사용해서 하기에는 애매함 drop\n",
    "product_copy_df.dropna(inplace=True)\n",
    "#결측치 처리 완료\n",
    "product_copy_df.reset_index(inplace=True)\n",
    "product_copy_df.drop('index',axis = 1,inplace=True)\n",
    "product_copy_df.info()"
   ]
  },
  {
   "cell_type": "code",
   "execution_count": 153,
   "metadata": {},
   "outputs": [],
   "source": [
    "# 상품데이터 설명 split\n",
    "product_copy_df['Description_literal'] = product_copy_df['Description'].apply(lambda x: x.split(' '))\n"
   ]
  },
  {
   "cell_type": "code",
   "execution_count": 154,
   "metadata": {},
   "outputs": [
    {
     "data": {
      "text/html": [
       "<div>\n",
       "<style scoped>\n",
       "    .dataframe tbody tr th:only-of-type {\n",
       "        vertical-align: middle;\n",
       "    }\n",
       "\n",
       "    .dataframe tbody tr th {\n",
       "        vertical-align: top;\n",
       "    }\n",
       "\n",
       "    .dataframe thead th {\n",
       "        text-align: right;\n",
       "    }\n",
       "</style>\n",
       "<table border=\"1\" class=\"dataframe\">\n",
       "  <thead>\n",
       "    <tr style=\"text-align: right;\">\n",
       "      <th></th>\n",
       "      <th>StockCode</th>\n",
       "      <th>Quantity</th>\n",
       "      <th>UnitPrice</th>\n",
       "      <th>CustomerID</th>\n",
       "    </tr>\n",
       "  </thead>\n",
       "  <tbody>\n",
       "    <tr>\n",
       "      <th>0</th>\n",
       "      <td>10002</td>\n",
       "      <td>823</td>\n",
       "      <td>41.650</td>\n",
       "      <td>723842.0</td>\n",
       "    </tr>\n",
       "    <tr>\n",
       "      <th>1</th>\n",
       "      <td>10080</td>\n",
       "      <td>291</td>\n",
       "      <td>8.650</td>\n",
       "      <td>333014.0</td>\n",
       "    </tr>\n",
       "    <tr>\n",
       "      <th>2</th>\n",
       "      <td>10120</td>\n",
       "      <td>193</td>\n",
       "      <td>6.300</td>\n",
       "      <td>484879.0</td>\n",
       "    </tr>\n",
       "    <tr>\n",
       "      <th>3</th>\n",
       "      <td>10125</td>\n",
       "      <td>1226</td>\n",
       "      <td>50.100</td>\n",
       "      <td>976545.0</td>\n",
       "    </tr>\n",
       "    <tr>\n",
       "      <th>4</th>\n",
       "      <td>10133</td>\n",
       "      <td>2374</td>\n",
       "      <td>65.830</td>\n",
       "      <td>1942666.0</td>\n",
       "    </tr>\n",
       "    <tr>\n",
       "      <th>...</th>\n",
       "      <td>...</td>\n",
       "      <td>...</td>\n",
       "      <td>...</td>\n",
       "      <td>...</td>\n",
       "    </tr>\n",
       "    <tr>\n",
       "      <th>3679</th>\n",
       "      <td>D</td>\n",
       "      <td>-1194</td>\n",
       "      <td>5581.310</td>\n",
       "      <td>1149366.0</td>\n",
       "    </tr>\n",
       "    <tr>\n",
       "      <th>3680</th>\n",
       "      <td>DOT</td>\n",
       "      <td>16</td>\n",
       "      <td>11906.360</td>\n",
       "      <td>225536.0</td>\n",
       "    </tr>\n",
       "    <tr>\n",
       "      <th>3681</th>\n",
       "      <td>M</td>\n",
       "      <td>3184</td>\n",
       "      <td>155507.920</td>\n",
       "      <td>7102962.0</td>\n",
       "    </tr>\n",
       "    <tr>\n",
       "      <th>3682</th>\n",
       "      <td>PADS</td>\n",
       "      <td>4</td>\n",
       "      <td>0.003</td>\n",
       "      <td>61901.0</td>\n",
       "    </tr>\n",
       "    <tr>\n",
       "      <th>3683</th>\n",
       "      <td>POST</td>\n",
       "      <td>3002</td>\n",
       "      <td>45314.680</td>\n",
       "      <td>15425584.0</td>\n",
       "    </tr>\n",
       "  </tbody>\n",
       "</table>\n",
       "<p>3684 rows × 4 columns</p>\n",
       "</div>"
      ],
      "text/plain": [
       "     StockCode  Quantity   UnitPrice  CustomerID\n",
       "0        10002       823      41.650    723842.0\n",
       "1        10080       291       8.650    333014.0\n",
       "2        10120       193       6.300    484879.0\n",
       "3        10125      1226      50.100    976545.0\n",
       "4        10133      2374      65.830   1942666.0\n",
       "...        ...       ...         ...         ...\n",
       "3679         D     -1194    5581.310   1149366.0\n",
       "3680       DOT        16   11906.360    225536.0\n",
       "3681         M      3184  155507.920   7102962.0\n",
       "3682      PADS         4       0.003     61901.0\n",
       "3683      POST      3002   45314.680  15425584.0\n",
       "\n",
       "[3684 rows x 4 columns]"
      ]
     },
     "execution_count": 154,
     "metadata": {},
     "output_type": "execute_result"
    }
   ],
   "source": [
    "Quantity_sum = product_copy_df.groupby('StockCode').sum('Quantity')\n",
    "Quantity_sum = Quantity_sum.reset_index()\n",
    "Quantity_sum"
   ]
  },
  {
   "cell_type": "code",
   "execution_count": 155,
   "metadata": {},
   "outputs": [],
   "source": [
    "\n",
    "Quantity_sum = Quantity_sum[['StockCode', 'Quantity']]\n"
   ]
  },
  {
   "cell_type": "code",
   "execution_count": 156,
   "metadata": {},
   "outputs": [
    {
     "name": "stdout",
     "output_type": "stream",
     "text": [
      "<class 'pandas.core.frame.DataFrame'>\n",
      "Int64Index: 3684 entries, 0 to 406349\n",
      "Data columns (total 7 columns):\n",
      " #   Column               Non-Null Count  Dtype  \n",
      "---  ------               --------------  -----  \n",
      " 0   StockCode            3684 non-null   object \n",
      " 1   Description          3684 non-null   object \n",
      " 2   Quantity             3684 non-null   int64  \n",
      " 3   UnitPrice            3684 non-null   float64\n",
      " 4   CustomerID           3684 non-null   float64\n",
      " 5   Country              3684 non-null   object \n",
      " 6   Description_literal  3684 non-null   object \n",
      "dtypes: float64(2), int64(1), object(4)\n",
      "memory usage: 230.2+ KB\n"
     ]
    }
   ],
   "source": [
    "#중복 제거\n",
    "product_copy_df= product_copy_df.drop_duplicates(subset=[\"StockCode\"])\n",
    "product_copy_df.info()"
   ]
  },
  {
   "cell_type": "code",
   "execution_count": 157,
   "metadata": {},
   "outputs": [],
   "source": [
    "product_copy_df = product_copy_df.drop('Quantity',axis=1)\n",
    "product_copy_df = pd.merge(product_copy_df, Quantity_sum, on= 'StockCode')"
   ]
  },
  {
   "cell_type": "code",
   "execution_count": 161,
   "metadata": {},
   "outputs": [
    {
     "data": {
      "text/html": [
       "<div>\n",
       "<style scoped>\n",
       "    .dataframe tbody tr th:only-of-type {\n",
       "        vertical-align: middle;\n",
       "    }\n",
       "\n",
       "    .dataframe tbody tr th {\n",
       "        vertical-align: top;\n",
       "    }\n",
       "\n",
       "    .dataframe thead th {\n",
       "        text-align: right;\n",
       "    }\n",
       "</style>\n",
       "<table border=\"1\" class=\"dataframe\">\n",
       "  <thead>\n",
       "    <tr style=\"text-align: right;\">\n",
       "      <th></th>\n",
       "      <th>StockCode</th>\n",
       "      <th>Description</th>\n",
       "      <th>UnitPrice</th>\n",
       "      <th>CustomerID</th>\n",
       "      <th>Country</th>\n",
       "      <th>Description_literal</th>\n",
       "      <th>Quantity</th>\n",
       "    </tr>\n",
       "  </thead>\n",
       "  <tbody>\n",
       "    <tr>\n",
       "      <th>0</th>\n",
       "      <td>85123A</td>\n",
       "      <td>WHITE HANGING HEART T-LIGHT HOLDER</td>\n",
       "      <td>2.55</td>\n",
       "      <td>17850.0</td>\n",
       "      <td>United Kingdom</td>\n",
       "      <td>[WHITE, HANGING, HEART, T-LIGHT, HOLDER]</td>\n",
       "      <td>34204</td>\n",
       "    </tr>\n",
       "    <tr>\n",
       "      <th>1</th>\n",
       "      <td>71053</td>\n",
       "      <td>WHITE METAL LANTERN</td>\n",
       "      <td>3.39</td>\n",
       "      <td>17850.0</td>\n",
       "      <td>United Kingdom</td>\n",
       "      <td>[WHITE, METAL, LANTERN]</td>\n",
       "      <td>1600</td>\n",
       "    </tr>\n",
       "    <tr>\n",
       "      <th>2</th>\n",
       "      <td>84406B</td>\n",
       "      <td>CREAM CUPID HEARTS COAT HANGER</td>\n",
       "      <td>2.75</td>\n",
       "      <td>17850.0</td>\n",
       "      <td>United Kingdom</td>\n",
       "      <td>[CREAM, CUPID, HEARTS, COAT, HANGER]</td>\n",
       "      <td>1876</td>\n",
       "    </tr>\n",
       "    <tr>\n",
       "      <th>3</th>\n",
       "      <td>84029G</td>\n",
       "      <td>KNITTED UNION FLAG HOT WATER BOTTLE</td>\n",
       "      <td>3.39</td>\n",
       "      <td>17850.0</td>\n",
       "      <td>United Kingdom</td>\n",
       "      <td>[KNITTED, UNION, FLAG, HOT, WATER, BOTTLE]</td>\n",
       "      <td>2455</td>\n",
       "    </tr>\n",
       "    <tr>\n",
       "      <th>4</th>\n",
       "      <td>84029E</td>\n",
       "      <td>RED WOOLLY HOTTIE WHITE HEART.</td>\n",
       "      <td>3.39</td>\n",
       "      <td>17850.0</td>\n",
       "      <td>United Kingdom</td>\n",
       "      <td>[RED, WOOLLY, HOTTIE, WHITE, HEART.]</td>\n",
       "      <td>3688</td>\n",
       "    </tr>\n",
       "    <tr>\n",
       "      <th>...</th>\n",
       "      <td>...</td>\n",
       "      <td>...</td>\n",
       "      <td>...</td>\n",
       "      <td>...</td>\n",
       "      <td>...</td>\n",
       "      <td>...</td>\n",
       "      <td>...</td>\n",
       "    </tr>\n",
       "    <tr>\n",
       "      <th>3679</th>\n",
       "      <td>90214U</td>\n",
       "      <td>LETTER \"U\" BLING KEY RING</td>\n",
       "      <td>0.29</td>\n",
       "      <td>13790.0</td>\n",
       "      <td>United Kingdom</td>\n",
       "      <td>[LETTER, \"U\", BLING, KEY, RING]</td>\n",
       "      <td>12</td>\n",
       "    </tr>\n",
       "    <tr>\n",
       "      <th>3680</th>\n",
       "      <td>90214W</td>\n",
       "      <td>LETTER \"W\" BLING KEY RING</td>\n",
       "      <td>0.29</td>\n",
       "      <td>13790.0</td>\n",
       "      <td>United Kingdom</td>\n",
       "      <td>[LETTER, \"W\", BLING, KEY, RING]</td>\n",
       "      <td>12</td>\n",
       "    </tr>\n",
       "    <tr>\n",
       "      <th>3681</th>\n",
       "      <td>90214Z</td>\n",
       "      <td>LETTER \"Z\" BLING KEY RING</td>\n",
       "      <td>0.29</td>\n",
       "      <td>13790.0</td>\n",
       "      <td>United Kingdom</td>\n",
       "      <td>[LETTER, \"Z\", BLING, KEY, RING]</td>\n",
       "      <td>12</td>\n",
       "    </tr>\n",
       "    <tr>\n",
       "      <th>3682</th>\n",
       "      <td>90089</td>\n",
       "      <td>PINK CRYSTAL SKULL PHONE CHARM</td>\n",
       "      <td>0.19</td>\n",
       "      <td>17914.0</td>\n",
       "      <td>United Kingdom</td>\n",
       "      <td>[PINK, CRYSTAL, SKULL, PHONE, CHARM]</td>\n",
       "      <td>25</td>\n",
       "    </tr>\n",
       "    <tr>\n",
       "      <th>3683</th>\n",
       "      <td>23843</td>\n",
       "      <td>PAPER CRAFT , LITTLE BIRDIE</td>\n",
       "      <td>2.08</td>\n",
       "      <td>16446.0</td>\n",
       "      <td>United Kingdom</td>\n",
       "      <td>[PAPER, CRAFT, ,, LITTLE, BIRDIE]</td>\n",
       "      <td>0</td>\n",
       "    </tr>\n",
       "  </tbody>\n",
       "</table>\n",
       "<p>3684 rows × 7 columns</p>\n",
       "</div>"
      ],
      "text/plain": [
       "     StockCode                          Description  UnitPrice  CustomerID  \\\n",
       "0       85123A   WHITE HANGING HEART T-LIGHT HOLDER       2.55     17850.0   \n",
       "1        71053                  WHITE METAL LANTERN       3.39     17850.0   \n",
       "2       84406B       CREAM CUPID HEARTS COAT HANGER       2.75     17850.0   \n",
       "3       84029G  KNITTED UNION FLAG HOT WATER BOTTLE       3.39     17850.0   \n",
       "4       84029E       RED WOOLLY HOTTIE WHITE HEART.       3.39     17850.0   \n",
       "...        ...                                  ...        ...         ...   \n",
       "3679    90214U            LETTER \"U\" BLING KEY RING       0.29     13790.0   \n",
       "3680    90214W            LETTER \"W\" BLING KEY RING       0.29     13790.0   \n",
       "3681    90214Z            LETTER \"Z\" BLING KEY RING       0.29     13790.0   \n",
       "3682     90089       PINK CRYSTAL SKULL PHONE CHARM       0.19     17914.0   \n",
       "3683     23843          PAPER CRAFT , LITTLE BIRDIE       2.08     16446.0   \n",
       "\n",
       "             Country                         Description_literal  Quantity  \n",
       "0     United Kingdom    [WHITE, HANGING, HEART, T-LIGHT, HOLDER]     34204  \n",
       "1     United Kingdom                     [WHITE, METAL, LANTERN]      1600  \n",
       "2     United Kingdom        [CREAM, CUPID, HEARTS, COAT, HANGER]      1876  \n",
       "3     United Kingdom  [KNITTED, UNION, FLAG, HOT, WATER, BOTTLE]      2455  \n",
       "4     United Kingdom        [RED, WOOLLY, HOTTIE, WHITE, HEART.]      3688  \n",
       "...              ...                                         ...       ...  \n",
       "3679  United Kingdom             [LETTER, \"U\", BLING, KEY, RING]        12  \n",
       "3680  United Kingdom             [LETTER, \"W\", BLING, KEY, RING]        12  \n",
       "3681  United Kingdom             [LETTER, \"Z\", BLING, KEY, RING]        12  \n",
       "3682  United Kingdom        [PINK, CRYSTAL, SKULL, PHONE, CHARM]        25  \n",
       "3683  United Kingdom           [PAPER, CRAFT, ,, LITTLE, BIRDIE]         0  \n",
       "\n",
       "[3684 rows x 7 columns]"
      ]
     },
     "execution_count": 161,
     "metadata": {},
     "output_type": "execute_result"
    }
   ],
   "source": [
    "product_copy_df"
   ]
  },
  {
   "cell_type": "code",
   "execution_count": 162,
   "metadata": {},
   "outputs": [
    {
     "data": {
      "text/plain": [
       "United Kingdom     3396\n",
       "EIRE                 66\n",
       "Germany              57\n",
       "France               47\n",
       "Norway               33\n",
       "Australia            12\n",
       "Japan                11\n",
       "Italy                11\n",
       "Portugal              8\n",
       "Spain                 6\n",
       "Netherlands           5\n",
       "Cyprus                5\n",
       "Belgium               5\n",
       "Switzerland           4\n",
       "Lithuania             4\n",
       "Finland               2\n",
       "Malta                 2\n",
       "Iceland               2\n",
       "Unspecified           2\n",
       "Denmark               1\n",
       "Canada                1\n",
       "Poland                1\n",
       "Singapore             1\n",
       "Channel Islands       1\n",
       "Austria               1\n",
       "Name: Country, dtype: int64"
      ]
     },
     "execution_count": 162,
     "metadata": {},
     "output_type": "execute_result"
    }
   ],
   "source": [
    "product_copy_df['Country'] = product_copy_df['Country'].astype('category')\n",
    "product_copy_df['Country'].value_counts()"
   ]
  },
  {
   "cell_type": "code",
   "execution_count": 164,
   "metadata": {},
   "outputs": [],
   "source": [
    "count_vect = CountVectorizer(min_df=0, ngram_range=(1,2))\n",
    "# description_mat = count_vect.fit_transform(product_copy_df['Description'])\n",
    "# print(description_mat)\n",
    "count_vect.fit(product_copy_df['Description'])\n",
    "description_mat = count_vect.transform(product_copy_df['Description'])\n"
   ]
  },
  {
   "cell_type": "code",
   "execution_count": 165,
   "metadata": {},
   "outputs": [
    {
     "name": "stdout",
     "output_type": "stream",
     "text": [
      "(3684, 8799)\n"
     ]
    }
   ],
   "source": [
    "print(description_mat.shape)"
   ]
  },
  {
   "cell_type": "code",
   "execution_count": 180,
   "metadata": {},
   "outputs": [],
   "source": [
    "product_sim = cosine_similarity(description_mat,description_mat)\n"
   ]
  },
  {
   "cell_type": "code",
   "execution_count": 187,
   "metadata": {},
   "outputs": [
    {
     "data": {
      "text/plain": [
       "(3684, 3684)"
      ]
     },
     "execution_count": 187,
     "metadata": {},
     "output_type": "execute_result"
    }
   ],
   "source": [
    "product_sim_sorted_ind = product_sim.argsort()[:,::-1]\n",
    "product_sim_sorted_ind"
   ]
  },
  {
   "cell_type": "code",
   "execution_count": 188,
   "metadata": {},
   "outputs": [
    {
     "data": {
      "text/plain": [
       "array([[1.   , 0.778, 0.745, ..., 0.   , 0.   , 0.   ],\n",
       "       [1.   , 0.447, 0.4  , ..., 0.   , 0.   , 0.   ],\n",
       "       [1.   , 0.192, 0.192, ..., 0.   , 0.   , 0.   ],\n",
       "       ...,\n",
       "       [1.   , 1.   , 1.   , ..., 0.   , 0.   , 0.   ],\n",
       "       [1.   , 0.667, 0.504, ..., 0.   , 0.   , 0.   ],\n",
       "       [1.   , 0.429, 0.21 , ..., 0.   , 0.   , 0.   ]])"
      ]
     },
     "execution_count": 188,
     "metadata": {},
     "output_type": "execute_result"
    }
   ],
   "source": [
    "similarity = np.round(np.sort(product_sim)[:,::-1],3)\n",
    "similarity"
   ]
  },
  {
   "cell_type": "code",
   "execution_count": 182,
   "metadata": {},
   "outputs": [
    {
     "data": {
      "text/plain": [
       "array([[   0,   58,  504, ..., 2338, 2336, 1841]], dtype=int64)"
      ]
     },
     "execution_count": 182,
     "metadata": {},
     "output_type": "execute_result"
    }
   ],
   "source": [
    "\n",
    "product_sim_sorted_ind[:1]"
   ]
  },
  {
   "cell_type": "code",
   "execution_count": 169,
   "metadata": {},
   "outputs": [
    {
     "data": {
      "text/html": [
       "<div>\n",
       "<style scoped>\n",
       "    .dataframe tbody tr th:only-of-type {\n",
       "        vertical-align: middle;\n",
       "    }\n",
       "\n",
       "    .dataframe tbody tr th {\n",
       "        vertical-align: top;\n",
       "    }\n",
       "\n",
       "    .dataframe thead th {\n",
       "        text-align: right;\n",
       "    }\n",
       "</style>\n",
       "<table border=\"1\" class=\"dataframe\">\n",
       "  <thead>\n",
       "    <tr style=\"text-align: right;\">\n",
       "      <th></th>\n",
       "      <th>StockCode</th>\n",
       "      <th>Description</th>\n",
       "      <th>UnitPrice</th>\n",
       "      <th>CustomerID</th>\n",
       "      <th>Country</th>\n",
       "      <th>Description_literal</th>\n",
       "      <th>Quantity</th>\n",
       "    </tr>\n",
       "  </thead>\n",
       "  <tbody>\n",
       "    <tr>\n",
       "      <th>0</th>\n",
       "      <td>85123A</td>\n",
       "      <td>WHITE HANGING HEART T-LIGHT HOLDER</td>\n",
       "      <td>2.55</td>\n",
       "      <td>17850.0</td>\n",
       "      <td>United Kingdom</td>\n",
       "      <td>[WHITE, HANGING, HEART, T-LIGHT, HOLDER]</td>\n",
       "      <td>34204</td>\n",
       "    </tr>\n",
       "    <tr>\n",
       "      <th>1</th>\n",
       "      <td>71053</td>\n",
       "      <td>WHITE METAL LANTERN</td>\n",
       "      <td>3.39</td>\n",
       "      <td>17850.0</td>\n",
       "      <td>United Kingdom</td>\n",
       "      <td>[WHITE, METAL, LANTERN]</td>\n",
       "      <td>1600</td>\n",
       "    </tr>\n",
       "    <tr>\n",
       "      <th>2</th>\n",
       "      <td>84406B</td>\n",
       "      <td>CREAM CUPID HEARTS COAT HANGER</td>\n",
       "      <td>2.75</td>\n",
       "      <td>17850.0</td>\n",
       "      <td>United Kingdom</td>\n",
       "      <td>[CREAM, CUPID, HEARTS, COAT, HANGER]</td>\n",
       "      <td>1876</td>\n",
       "    </tr>\n",
       "    <tr>\n",
       "      <th>3</th>\n",
       "      <td>84029G</td>\n",
       "      <td>KNITTED UNION FLAG HOT WATER BOTTLE</td>\n",
       "      <td>3.39</td>\n",
       "      <td>17850.0</td>\n",
       "      <td>United Kingdom</td>\n",
       "      <td>[KNITTED, UNION, FLAG, HOT, WATER, BOTTLE]</td>\n",
       "      <td>2455</td>\n",
       "    </tr>\n",
       "    <tr>\n",
       "      <th>4</th>\n",
       "      <td>84029E</td>\n",
       "      <td>RED WOOLLY HOTTIE WHITE HEART.</td>\n",
       "      <td>3.39</td>\n",
       "      <td>17850.0</td>\n",
       "      <td>United Kingdom</td>\n",
       "      <td>[RED, WOOLLY, HOTTIE, WHITE, HEART.]</td>\n",
       "      <td>3688</td>\n",
       "    </tr>\n",
       "    <tr>\n",
       "      <th>...</th>\n",
       "      <td>...</td>\n",
       "      <td>...</td>\n",
       "      <td>...</td>\n",
       "      <td>...</td>\n",
       "      <td>...</td>\n",
       "      <td>...</td>\n",
       "      <td>...</td>\n",
       "    </tr>\n",
       "    <tr>\n",
       "      <th>3679</th>\n",
       "      <td>90214U</td>\n",
       "      <td>LETTER \"U\" BLING KEY RING</td>\n",
       "      <td>0.29</td>\n",
       "      <td>13790.0</td>\n",
       "      <td>United Kingdom</td>\n",
       "      <td>[LETTER, \"U\", BLING, KEY, RING]</td>\n",
       "      <td>12</td>\n",
       "    </tr>\n",
       "    <tr>\n",
       "      <th>3680</th>\n",
       "      <td>90214W</td>\n",
       "      <td>LETTER \"W\" BLING KEY RING</td>\n",
       "      <td>0.29</td>\n",
       "      <td>13790.0</td>\n",
       "      <td>United Kingdom</td>\n",
       "      <td>[LETTER, \"W\", BLING, KEY, RING]</td>\n",
       "      <td>12</td>\n",
       "    </tr>\n",
       "    <tr>\n",
       "      <th>3681</th>\n",
       "      <td>90214Z</td>\n",
       "      <td>LETTER \"Z\" BLING KEY RING</td>\n",
       "      <td>0.29</td>\n",
       "      <td>13790.0</td>\n",
       "      <td>United Kingdom</td>\n",
       "      <td>[LETTER, \"Z\", BLING, KEY, RING]</td>\n",
       "      <td>12</td>\n",
       "    </tr>\n",
       "    <tr>\n",
       "      <th>3682</th>\n",
       "      <td>90089</td>\n",
       "      <td>PINK CRYSTAL SKULL PHONE CHARM</td>\n",
       "      <td>0.19</td>\n",
       "      <td>17914.0</td>\n",
       "      <td>United Kingdom</td>\n",
       "      <td>[PINK, CRYSTAL, SKULL, PHONE, CHARM]</td>\n",
       "      <td>25</td>\n",
       "    </tr>\n",
       "    <tr>\n",
       "      <th>3683</th>\n",
       "      <td>23843</td>\n",
       "      <td>PAPER CRAFT , LITTLE BIRDIE</td>\n",
       "      <td>2.08</td>\n",
       "      <td>16446.0</td>\n",
       "      <td>United Kingdom</td>\n",
       "      <td>[PAPER, CRAFT, ,, LITTLE, BIRDIE]</td>\n",
       "      <td>0</td>\n",
       "    </tr>\n",
       "  </tbody>\n",
       "</table>\n",
       "<p>3684 rows × 7 columns</p>\n",
       "</div>"
      ],
      "text/plain": [
       "     StockCode                          Description  UnitPrice  CustomerID  \\\n",
       "0       85123A   WHITE HANGING HEART T-LIGHT HOLDER       2.55     17850.0   \n",
       "1        71053                  WHITE METAL LANTERN       3.39     17850.0   \n",
       "2       84406B       CREAM CUPID HEARTS COAT HANGER       2.75     17850.0   \n",
       "3       84029G  KNITTED UNION FLAG HOT WATER BOTTLE       3.39     17850.0   \n",
       "4       84029E       RED WOOLLY HOTTIE WHITE HEART.       3.39     17850.0   \n",
       "...        ...                                  ...        ...         ...   \n",
       "3679    90214U            LETTER \"U\" BLING KEY RING       0.29     13790.0   \n",
       "3680    90214W            LETTER \"W\" BLING KEY RING       0.29     13790.0   \n",
       "3681    90214Z            LETTER \"Z\" BLING KEY RING       0.29     13790.0   \n",
       "3682     90089       PINK CRYSTAL SKULL PHONE CHARM       0.19     17914.0   \n",
       "3683     23843          PAPER CRAFT , LITTLE BIRDIE       2.08     16446.0   \n",
       "\n",
       "             Country                         Description_literal  Quantity  \n",
       "0     United Kingdom    [WHITE, HANGING, HEART, T-LIGHT, HOLDER]     34204  \n",
       "1     United Kingdom                     [WHITE, METAL, LANTERN]      1600  \n",
       "2     United Kingdom        [CREAM, CUPID, HEARTS, COAT, HANGER]      1876  \n",
       "3     United Kingdom  [KNITTED, UNION, FLAG, HOT, WATER, BOTTLE]      2455  \n",
       "4     United Kingdom        [RED, WOOLLY, HOTTIE, WHITE, HEART.]      3688  \n",
       "...              ...                                         ...       ...  \n",
       "3679  United Kingdom             [LETTER, \"U\", BLING, KEY, RING]        12  \n",
       "3680  United Kingdom             [LETTER, \"W\", BLING, KEY, RING]        12  \n",
       "3681  United Kingdom             [LETTER, \"Z\", BLING, KEY, RING]        12  \n",
       "3682  United Kingdom        [PINK, CRYSTAL, SKULL, PHONE, CHARM]        25  \n",
       "3683  United Kingdom           [PAPER, CRAFT, ,, LITTLE, BIRDIE]         0  \n",
       "\n",
       "[3684 rows x 7 columns]"
      ]
     },
     "execution_count": 169,
     "metadata": {},
     "output_type": "execute_result"
    }
   ],
   "source": [
    "product_copy_df"
   ]
  },
  {
   "cell_type": "code",
   "execution_count": 228,
   "metadata": {},
   "outputs": [],
   "source": [
    "def find_sim_product(df, sorted_ind, similarity,product_description, top_n = 10):\n",
    "    product_description = df[df['Description'] == product_description]\n",
    "    product_index = product_description.index.values\n",
    "    similar_indexes = sorted_ind[product_index,:(top_n)]\n",
    "                    \n",
    "    similar_indexes = similar_indexes.reshape(-1)\n",
    "    a = similarity[product_index,:(top_n)]\n",
    "    a= list(a)\n",
    "    a.split(' ')\n",
    "    print(a)\n",
    "    new_df = df.iloc[similar_indexes].copy()\n",
    "    # new_df['similarity'] = similarity[product_index,:(top_n)]\n",
    "    return new_df"
   ]
  },
  {
   "cell_type": "code",
   "execution_count": 229,
   "metadata": {},
   "outputs": [
    {
     "ename": "AttributeError",
     "evalue": "'list' object has no attribute 'split'",
     "output_type": "error",
     "traceback": [
      "\u001b[1;31m---------------------------------------------------------------------------\u001b[0m",
      "\u001b[1;31mAttributeError\u001b[0m                            Traceback (most recent call last)",
      "Cell \u001b[1;32mIn[229], line 1\u001b[0m\n\u001b[1;32m----> 1\u001b[0m similar_product \u001b[39m=\u001b[39m find_sim_product(product_copy_df, product_sim_sorted_ind, similarity,\u001b[39m'\u001b[39;49m\u001b[39mCLASSIC WHITE FRAME\u001b[39;49m\u001b[39m'\u001b[39;49m,\u001b[39m10\u001b[39;49m)\n\u001b[0;32m      2\u001b[0m similar_product\n",
      "Cell \u001b[1;32mIn[228], line 9\u001b[0m, in \u001b[0;36mfind_sim_product\u001b[1;34m(df, sorted_ind, similarity, product_description, top_n)\u001b[0m\n\u001b[0;32m      7\u001b[0m a \u001b[39m=\u001b[39m similarity[product_index,:(top_n)]\n\u001b[0;32m      8\u001b[0m a\u001b[39m=\u001b[39m \u001b[39mlist\u001b[39m(a)\n\u001b[1;32m----> 9\u001b[0m a\u001b[39m.\u001b[39;49msplit(\u001b[39m'\u001b[39m\u001b[39m \u001b[39m\u001b[39m'\u001b[39m)\n\u001b[0;32m     10\u001b[0m \u001b[39mprint\u001b[39m(a)\n\u001b[0;32m     11\u001b[0m new_df \u001b[39m=\u001b[39m df\u001b[39m.\u001b[39miloc[similar_indexes]\u001b[39m.\u001b[39mcopy()\n",
      "\u001b[1;31mAttributeError\u001b[0m: 'list' object has no attribute 'split'"
     ]
    }
   ],
   "source": [
    "similar_product = find_sim_product(product_copy_df, product_sim_sorted_ind, similarity,'CLASSIC WHITE FRAME',10)\n",
    "similar_product"
   ]
  },
  {
   "cell_type": "code",
   "execution_count": null,
   "metadata": {},
   "outputs": [],
   "source": []
  }
 ],
 "metadata": {
  "kernelspec": {
   "display_name": "base",
   "language": "python",
   "name": "python3"
  },
  "language_info": {
   "codemirror_mode": {
    "name": "ipython",
    "version": 3
   },
   "file_extension": ".py",
   "mimetype": "text/x-python",
   "name": "python",
   "nbconvert_exporter": "python",
   "pygments_lexer": "ipython3",
   "version": "3.9.16"
  },
  "orig_nbformat": 4
 },
 "nbformat": 4,
 "nbformat_minor": 2
}
