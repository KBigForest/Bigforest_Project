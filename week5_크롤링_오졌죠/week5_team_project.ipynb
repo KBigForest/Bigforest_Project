{
 "cells": [
  {
   "cell_type": "code",
   "execution_count": 13,
   "metadata": {},
   "outputs": [],
   "source": [
    "import pandas as pd\n",
    "from matplotlib import font_manager, rc\n",
    "import matplotlib.pyplot as plt\n",
    "import matplotlib.font_manager as fm\n",
    "import numpy as np\n",
    "df_rank = pd.read_csv('rank.csv', encoding='utf-8')\n",
    "df_rank['기업연봉']= df_rank['기업연봉'].str.replace(',','').astype('int64')\n",
    "pd.options.display.max_rows = 60\n",
    "pd.options.display.max_columns = 20\n"
   ]
  },
  {
   "cell_type": "code",
   "execution_count": 18,
   "metadata": {},
   "outputs": [
    {
     "data": {
      "text/html": [
       "<div>\n",
       "<style scoped>\n",
       "    .dataframe tbody tr th:only-of-type {\n",
       "        vertical-align: middle;\n",
       "    }\n",
       "\n",
       "    .dataframe tbody tr th {\n",
       "        vertical-align: top;\n",
       "    }\n",
       "\n",
       "    .dataframe thead th {\n",
       "        text-align: right;\n",
       "    }\n",
       "</style>\n",
       "<table border=\"1\" class=\"dataframe\">\n",
       "  <thead>\n",
       "    <tr style=\"text-align: right;\">\n",
       "      <th></th>\n",
       "      <th>Unnamed: 0</th>\n",
       "      <th>기업이름</th>\n",
       "      <th>기업지역</th>\n",
       "      <th>기업연봉</th>\n",
       "      <th>기업평점</th>\n",
       "    </tr>\n",
       "  </thead>\n",
       "  <tbody>\n",
       "    <tr>\n",
       "      <th>0</th>\n",
       "      <td>0</td>\n",
       "      <td>세이지리서치(주)</td>\n",
       "      <td>서울</td>\n",
       "      <td>0</td>\n",
       "      <td>4.9</td>\n",
       "    </tr>\n",
       "    <tr>\n",
       "      <th>1</th>\n",
       "      <td>1</td>\n",
       "      <td>페이스북코리아(유)</td>\n",
       "      <td>서울</td>\n",
       "      <td>8682</td>\n",
       "      <td>4.5</td>\n",
       "    </tr>\n",
       "    <tr>\n",
       "      <th>2</th>\n",
       "      <td>2</td>\n",
       "      <td>라이엇게임즈코리아</td>\n",
       "      <td>해외</td>\n",
       "      <td>6068</td>\n",
       "      <td>4.4</td>\n",
       "    </tr>\n",
       "    <tr>\n",
       "      <th>3</th>\n",
       "      <td>3</td>\n",
       "      <td>유니티테크놀로지스코리아(유)</td>\n",
       "      <td>서울</td>\n",
       "      <td>5781</td>\n",
       "      <td>4.4</td>\n",
       "    </tr>\n",
       "    <tr>\n",
       "      <th>4</th>\n",
       "      <td>4</td>\n",
       "      <td>네이버웹툰</td>\n",
       "      <td>경기</td>\n",
       "      <td>5255</td>\n",
       "      <td>4.4</td>\n",
       "    </tr>\n",
       "  </tbody>\n",
       "</table>\n",
       "</div>"
      ],
      "text/plain": [
       "   Unnamed: 0             기업이름 기업지역  기업연봉  기업평점\n",
       "0           0        세이지리서치(주)   서울     0   4.9\n",
       "1           1       페이스북코리아(유)   서울  8682   4.5\n",
       "2           2        라이엇게임즈코리아   해외  6068   4.4\n",
       "3           3  유니티테크놀로지스코리아(유)   서울  5781   4.4\n",
       "4           4            네이버웹툰   경기  5255   4.4"
      ]
     },
     "execution_count": 18,
     "metadata": {},
     "output_type": "execute_result"
    }
   ],
   "source": [
    "df_rank.head()"
   ]
  },
  {
   "cell_type": "code",
   "execution_count": null,
   "metadata": {},
   "outputs": [],
   "source": []
  }
 ],
 "metadata": {
  "kernelspec": {
   "display_name": "base",
   "language": "python",
   "name": "python3"
  },
  "language_info": {
   "codemirror_mode": {
    "name": "ipython",
    "version": 3
   },
   "file_extension": ".py",
   "mimetype": "text/x-python",
   "name": "python",
   "nbconvert_exporter": "python",
   "pygments_lexer": "ipython3",
   "version": "3.9.16"
  },
  "orig_nbformat": 4,
  "vscode": {
   "interpreter": {
    "hash": "9417ace0e3e7634b90b38757bc44d793a7bcbefc71d735b2637da1e8bf4dd136"
   }
  }
 },
 "nbformat": 4,
 "nbformat_minor": 2
}
