{
 "cells": [
  {
   "attachments": {},
   "cell_type": "markdown",
   "metadata": {},
   "source": [
    "---\n",
    "## 따릉이 데이터 분석을 통한 이용량 예측\n",
    "### 데이터 columns 기본 정보\n",
    "- id 고유 id\n",
    "- hour 시간\n",
    "- temperature 기온\n",
    "- precipitation 비가 오지 않았으면 0, 비가 오면 1\n",
    "- windspeed 풍속(평균)\n",
    "- humidity 습도\n",
    "- visibility 시정(視程), 시계(視界)(특정 기상 상태에 따른 가시성을 의미)\n",
    "- ozone 오존\n",
    "- pm10 미세먼지(머리카락 굵기의 1/5에서 1/7 크기의 미세먼지)\n",
    "- pm2.5 미세먼지(머리카락 굵기의 1/20에서 1/30 크기의 미세먼지)\n",
    "- count 시간에 따른 따릉이 대여 수\n",
    "---\n",
    "### 방향성\n",
    "- 회귀 방식을 사용, 데이터를 정제하고 예측 모델을 사용\n",
    "- KNN, Decsion Tree + 앙상블 모델\n",
    "- linear[rigde, lasso, Elastic-net]\n",
    "- 데이터 scaling : 범위가 다를 가능성 농후\n",
    "- ?, 0 과 같은 결측치 역시 대체 => 타 콜럼의 성격을 확인하고 대체\n",
    "---"
   ]
  },
  {
   "attachments": {},
   "cell_type": "markdown",
   "metadata": {},
   "source": [
    "---\n",
    "### 모듈 로딩 및 데이터 불러오기\n",
    "---"
   ]
  },
  {
   "cell_type": "code",
   "execution_count": 1,
   "metadata": {},
   "outputs": [],
   "source": [
    "from sklearn.utils import *\n",
    "from sklearn.model_selection import train_test_split\n",
    "from sklearn.metrics import *\n",
    "from sklearn.model_selection import GridSearchCV\n",
    "from sklearn.linear_model import LinearRegression,Lasso, Ridge, ElasticNet\n",
    "from sklearn.tree import DecisionTreeRegressor,ExtraTreeRegressor\n",
    "from sklearn.ensemble import RandomForestRegressor, ExtraTreesRegressor\n",
    "from sklearn.experimental  import enable_iterative_imputer\n",
    "from sklearn.impute import IterativeImputer\n",
    "\n",
    "from sklearn.tree import DecisionTreeRegressor\n",
    "from sklearn.preprocessing import StandardScaler\n",
    "\n",
    "import pandas as pd\n",
    "import numpy as np\n",
    "import seaborn as sns\n",
    "from custom_function import *\n",
    "import warnings\n",
    "warnings.filterwarnings('ignore')"
   ]
  },
  {
   "cell_type": "code",
   "execution_count": 2,
   "metadata": {},
   "outputs": [
    {
     "data": {
      "text/html": [
       "<div>\n",
       "<style scoped>\n",
       "    .dataframe tbody tr th:only-of-type {\n",
       "        vertical-align: middle;\n",
       "    }\n",
       "\n",
       "    .dataframe tbody tr th {\n",
       "        vertical-align: top;\n",
       "    }\n",
       "\n",
       "    .dataframe thead th {\n",
       "        text-align: right;\n",
       "    }\n",
       "</style>\n",
       "<table border=\"1\" class=\"dataframe\">\n",
       "  <thead>\n",
       "    <tr style=\"text-align: right;\">\n",
       "      <th></th>\n",
       "      <th>id</th>\n",
       "      <th>hour</th>\n",
       "      <th>hour_bef_temperature</th>\n",
       "      <th>hour_bef_precipitation</th>\n",
       "      <th>hour_bef_windspeed</th>\n",
       "      <th>hour_bef_humidity</th>\n",
       "      <th>hour_bef_visibility</th>\n",
       "      <th>hour_bef_ozone</th>\n",
       "      <th>hour_bef_pm10</th>\n",
       "      <th>hour_bef_pm2.5</th>\n",
       "      <th>count</th>\n",
       "    </tr>\n",
       "  </thead>\n",
       "  <tbody>\n",
       "    <tr>\n",
       "      <th>0</th>\n",
       "      <td>3</td>\n",
       "      <td>20</td>\n",
       "      <td>16.3</td>\n",
       "      <td>1.0</td>\n",
       "      <td>1.5</td>\n",
       "      <td>89.0</td>\n",
       "      <td>576.0</td>\n",
       "      <td>0.027</td>\n",
       "      <td>76.0</td>\n",
       "      <td>33.0</td>\n",
       "      <td>49.0</td>\n",
       "    </tr>\n",
       "    <tr>\n",
       "      <th>1</th>\n",
       "      <td>6</td>\n",
       "      <td>13</td>\n",
       "      <td>20.1</td>\n",
       "      <td>0.0</td>\n",
       "      <td>1.4</td>\n",
       "      <td>48.0</td>\n",
       "      <td>916.0</td>\n",
       "      <td>0.042</td>\n",
       "      <td>73.0</td>\n",
       "      <td>40.0</td>\n",
       "      <td>159.0</td>\n",
       "    </tr>\n",
       "    <tr>\n",
       "      <th>2</th>\n",
       "      <td>7</td>\n",
       "      <td>6</td>\n",
       "      <td>13.9</td>\n",
       "      <td>0.0</td>\n",
       "      <td>0.7</td>\n",
       "      <td>79.0</td>\n",
       "      <td>1382.0</td>\n",
       "      <td>0.033</td>\n",
       "      <td>32.0</td>\n",
       "      <td>19.0</td>\n",
       "      <td>26.0</td>\n",
       "    </tr>\n",
       "    <tr>\n",
       "      <th>3</th>\n",
       "      <td>8</td>\n",
       "      <td>23</td>\n",
       "      <td>8.1</td>\n",
       "      <td>0.0</td>\n",
       "      <td>2.7</td>\n",
       "      <td>54.0</td>\n",
       "      <td>946.0</td>\n",
       "      <td>0.040</td>\n",
       "      <td>75.0</td>\n",
       "      <td>64.0</td>\n",
       "      <td>57.0</td>\n",
       "    </tr>\n",
       "    <tr>\n",
       "      <th>4</th>\n",
       "      <td>9</td>\n",
       "      <td>18</td>\n",
       "      <td>29.5</td>\n",
       "      <td>0.0</td>\n",
       "      <td>4.8</td>\n",
       "      <td>7.0</td>\n",
       "      <td>2000.0</td>\n",
       "      <td>0.057</td>\n",
       "      <td>27.0</td>\n",
       "      <td>11.0</td>\n",
       "      <td>431.0</td>\n",
       "    </tr>\n",
       "    <tr>\n",
       "      <th>...</th>\n",
       "      <td>...</td>\n",
       "      <td>...</td>\n",
       "      <td>...</td>\n",
       "      <td>...</td>\n",
       "      <td>...</td>\n",
       "      <td>...</td>\n",
       "      <td>...</td>\n",
       "      <td>...</td>\n",
       "      <td>...</td>\n",
       "      <td>...</td>\n",
       "      <td>...</td>\n",
       "    </tr>\n",
       "    <tr>\n",
       "      <th>1454</th>\n",
       "      <td>2174</td>\n",
       "      <td>4</td>\n",
       "      <td>16.8</td>\n",
       "      <td>0.0</td>\n",
       "      <td>1.6</td>\n",
       "      <td>53.0</td>\n",
       "      <td>2000.0</td>\n",
       "      <td>0.031</td>\n",
       "      <td>37.0</td>\n",
       "      <td>27.0</td>\n",
       "      <td>21.0</td>\n",
       "    </tr>\n",
       "    <tr>\n",
       "      <th>1455</th>\n",
       "      <td>2175</td>\n",
       "      <td>3</td>\n",
       "      <td>10.8</td>\n",
       "      <td>0.0</td>\n",
       "      <td>3.8</td>\n",
       "      <td>45.0</td>\n",
       "      <td>2000.0</td>\n",
       "      <td>0.039</td>\n",
       "      <td>34.0</td>\n",
       "      <td>19.0</td>\n",
       "      <td>20.0</td>\n",
       "    </tr>\n",
       "    <tr>\n",
       "      <th>1456</th>\n",
       "      <td>2176</td>\n",
       "      <td>5</td>\n",
       "      <td>18.3</td>\n",
       "      <td>0.0</td>\n",
       "      <td>1.9</td>\n",
       "      <td>54.0</td>\n",
       "      <td>2000.0</td>\n",
       "      <td>0.009</td>\n",
       "      <td>30.0</td>\n",
       "      <td>21.0</td>\n",
       "      <td>22.0</td>\n",
       "    </tr>\n",
       "    <tr>\n",
       "      <th>1457</th>\n",
       "      <td>2178</td>\n",
       "      <td>21</td>\n",
       "      <td>20.7</td>\n",
       "      <td>0.0</td>\n",
       "      <td>3.7</td>\n",
       "      <td>37.0</td>\n",
       "      <td>1395.0</td>\n",
       "      <td>0.082</td>\n",
       "      <td>71.0</td>\n",
       "      <td>36.0</td>\n",
       "      <td>216.0</td>\n",
       "    </tr>\n",
       "    <tr>\n",
       "      <th>1458</th>\n",
       "      <td>2179</td>\n",
       "      <td>17</td>\n",
       "      <td>21.1</td>\n",
       "      <td>0.0</td>\n",
       "      <td>3.1</td>\n",
       "      <td>47.0</td>\n",
       "      <td>1973.0</td>\n",
       "      <td>0.046</td>\n",
       "      <td>38.0</td>\n",
       "      <td>17.0</td>\n",
       "      <td>170.0</td>\n",
       "    </tr>\n",
       "  </tbody>\n",
       "</table>\n",
       "<p>1459 rows × 11 columns</p>\n",
       "</div>"
      ],
      "text/plain": [
       "        id  hour  hour_bef_temperature  hour_bef_precipitation  \\\n",
       "0        3    20                  16.3                     1.0   \n",
       "1        6    13                  20.1                     0.0   \n",
       "2        7     6                  13.9                     0.0   \n",
       "3        8    23                   8.1                     0.0   \n",
       "4        9    18                  29.5                     0.0   \n",
       "...    ...   ...                   ...                     ...   \n",
       "1454  2174     4                  16.8                     0.0   \n",
       "1455  2175     3                  10.8                     0.0   \n",
       "1456  2176     5                  18.3                     0.0   \n",
       "1457  2178    21                  20.7                     0.0   \n",
       "1458  2179    17                  21.1                     0.0   \n",
       "\n",
       "      hour_bef_windspeed  hour_bef_humidity  hour_bef_visibility  \\\n",
       "0                    1.5               89.0                576.0   \n",
       "1                    1.4               48.0                916.0   \n",
       "2                    0.7               79.0               1382.0   \n",
       "3                    2.7               54.0                946.0   \n",
       "4                    4.8                7.0               2000.0   \n",
       "...                  ...                ...                  ...   \n",
       "1454                 1.6               53.0               2000.0   \n",
       "1455                 3.8               45.0               2000.0   \n",
       "1456                 1.9               54.0               2000.0   \n",
       "1457                 3.7               37.0               1395.0   \n",
       "1458                 3.1               47.0               1973.0   \n",
       "\n",
       "      hour_bef_ozone  hour_bef_pm10  hour_bef_pm2.5  count  \n",
       "0              0.027           76.0            33.0   49.0  \n",
       "1              0.042           73.0            40.0  159.0  \n",
       "2              0.033           32.0            19.0   26.0  \n",
       "3              0.040           75.0            64.0   57.0  \n",
       "4              0.057           27.0            11.0  431.0  \n",
       "...              ...            ...             ...    ...  \n",
       "1454           0.031           37.0            27.0   21.0  \n",
       "1455           0.039           34.0            19.0   20.0  \n",
       "1456           0.009           30.0            21.0   22.0  \n",
       "1457           0.082           71.0            36.0  216.0  \n",
       "1458           0.046           38.0            17.0  170.0  \n",
       "\n",
       "[1459 rows x 11 columns]"
      ]
     },
     "execution_count": 2,
     "metadata": {},
     "output_type": "execute_result"
    }
   ],
   "source": [
    "ttareun_data = pd.read_csv('train.csv')\n",
    "ttareun_data\n"
   ]
  },
  {
   "attachments": {},
   "cell_type": "markdown",
   "metadata": {},
   "source": [
    "---\n",
    "### 결측치 확인\n",
    "---"
   ]
  },
  {
   "cell_type": "code",
   "execution_count": 3,
   "metadata": {},
   "outputs": [
    {
     "name": "stdout",
     "output_type": "stream",
     "text": [
      "<class 'pandas.core.frame.DataFrame'>\n",
      "RangeIndex: 1459 entries, 0 to 1458\n",
      "Data columns (total 11 columns):\n",
      " #   Column                  Non-Null Count  Dtype  \n",
      "---  ------                  --------------  -----  \n",
      " 0   id                      1459 non-null   int64  \n",
      " 1   hour                    1459 non-null   int64  \n",
      " 2   hour_bef_temperature    1457 non-null   float64\n",
      " 3   hour_bef_precipitation  1457 non-null   float64\n",
      " 4   hour_bef_windspeed      1450 non-null   float64\n",
      " 5   hour_bef_humidity       1457 non-null   float64\n",
      " 6   hour_bef_visibility     1457 non-null   float64\n",
      " 7   hour_bef_ozone          1383 non-null   float64\n",
      " 8   hour_bef_pm10           1369 non-null   float64\n",
      " 9   hour_bef_pm2.5          1342 non-null   float64\n",
      " 10  count                   1459 non-null   float64\n",
      "dtypes: float64(9), int64(2)\n",
      "memory usage: 125.5 KB\n",
      "3       1\n",
      "1481    1\n",
      "1479    1\n",
      "1478    1\n",
      "1477    1\n",
      "       ..\n",
      "747     1\n",
      "744     1\n",
      "743     1\n",
      "742     1\n",
      "2179    1\n",
      "Name: id, Length: 1459, dtype: int64\n",
      "20    61\n",
      "4     61\n",
      "5     61\n",
      "11    61\n",
      "22    61\n",
      "19    61\n",
      "15    61\n",
      "7     61\n",
      "8     61\n",
      "10    61\n",
      "1     61\n",
      "14    61\n",
      "9     61\n",
      "3     61\n",
      "2     61\n",
      "18    61\n",
      "23    61\n",
      "6     61\n",
      "12    61\n",
      "13    60\n",
      "17    60\n",
      "16    60\n",
      "0     60\n",
      "21    60\n",
      "Name: hour, dtype: int64\n",
      "18.8    17\n",
      "19.4    17\n",
      "14.0    16\n",
      "18.0    16\n",
      "16.6    15\n",
      "        ..\n",
      "3.2      1\n",
      "5.3      1\n",
      "7.6      1\n",
      "6.3      1\n",
      "29.2     1\n",
      "Name: hour_bef_temperature, Length: 245, dtype: int64\n",
      "0.0    1411\n",
      "1.0      46\n",
      "Name: hour_bef_precipitation, dtype: int64\n",
      "2.0    46\n",
      "1.8    45\n",
      "1.4    43\n",
      "2.7    41\n",
      "2.1    40\n",
      "       ..\n",
      "7.7     1\n",
      "6.7     1\n",
      "7.3     1\n",
      "7.4     1\n",
      "7.0     1\n",
      "Name: hour_bef_windspeed, Length: 73, dtype: int64\n",
      "44.0    34\n",
      "39.0    30\n",
      "76.0    30\n",
      "55.0    30\n",
      "71.0    30\n",
      "        ..\n",
      "8.0      1\n",
      "10.0     1\n",
      "95.0     1\n",
      "7.0      1\n",
      "9.0      1\n",
      "Name: hour_bef_humidity, Length: 91, dtype: int64\n",
      "2000.0    339\n",
      "990.0      12\n",
      "1992.0      8\n",
      "1994.0      7\n",
      "1996.0      6\n",
      "         ... \n",
      "574.0       1\n",
      "951.0       1\n",
      "1529.0      1\n",
      "670.0       1\n",
      "1262.0      1\n",
      "Name: hour_bef_visibility, Length: 781, dtype: int64\n",
      "0.036    34\n",
      "0.040    33\n",
      "0.044    32\n",
      "0.042    32\n",
      "0.033    31\n",
      "         ..\n",
      "0.098     1\n",
      "0.093     1\n",
      "0.095     1\n",
      "0.106     1\n",
      "0.112     1\n",
      "Name: hour_bef_ozone, Length: 95, dtype: int64\n",
      "32.0     36\n",
      "34.0     33\n",
      "48.0     31\n",
      "54.0     28\n",
      "47.0     28\n",
      "         ..\n",
      "116.0     1\n",
      "205.0     1\n",
      "131.0     1\n",
      "152.0     1\n",
      "113.0     1\n",
      "Name: hour_bef_pm10, Length: 148, dtype: int64\n",
      "22.0    69\n",
      "19.0    64\n",
      "21.0    62\n",
      "25.0    55\n",
      "24.0    51\n",
      "        ..\n",
      "75.0     1\n",
      "82.0     1\n",
      "78.0     1\n",
      "72.0     1\n",
      "74.0     1\n",
      "Name: hour_bef_pm2.5, Length: 79, dtype: int64\n",
      "15.0     19\n",
      "11.0     18\n",
      "23.0     17\n",
      "8.0      16\n",
      "13.0     14\n",
      "         ..\n",
      "335.0     1\n",
      "375.0     1\n",
      "299.0     1\n",
      "68.0      1\n",
      "179.0     1\n",
      "Name: count, Length: 314, dtype: int64\n"
     ]
    }
   ],
   "source": [
    "ttareun_data.info()\n",
    "for i in ttareun_data.columns:\n",
    "    print(ttareun_data[i].value_counts())\n",
    "#Insight!\n",
    "#얘네 모두 다 다른 자전거네"
   ]
  },
  {
   "attachments": {},
   "cell_type": "markdown",
   "metadata": {},
   "source": [
    "##### [1] 온도결측치"
   ]
  },
  {
   "cell_type": "code",
   "execution_count": 4,
   "metadata": {},
   "outputs": [
    {
     "name": "stdout",
     "output_type": "stream",
     "text": [
      "Int64Index([934, 1035], dtype='int64')\n"
     ]
    }
   ],
   "source": [
    "#결측치 확인 - 1 온도 결측치\n",
    "x = ttareun_data[ttareun_data['hour_bef_temperature'].isnull() ==True].index\n",
    "print(x)\n"
   ]
  },
  {
   "cell_type": "code",
   "execution_count": 5,
   "metadata": {},
   "outputs": [
    {
     "name": "stdout",
     "output_type": "stream",
     "text": [
      "<class 'pandas.core.frame.DataFrame'>\n",
      "RangeIndex: 1457 entries, 0 to 1456\n",
      "Data columns (total 12 columns):\n",
      " #   Column                  Non-Null Count  Dtype  \n",
      "---  ------                  --------------  -----  \n",
      " 0   index                   1457 non-null   int64  \n",
      " 1   id                      1457 non-null   int64  \n",
      " 2   hour                    1457 non-null   int64  \n",
      " 3   hour_bef_temperature    1457 non-null   float64\n",
      " 4   hour_bef_precipitation  1457 non-null   float64\n",
      " 5   hour_bef_windspeed      1450 non-null   float64\n",
      " 6   hour_bef_humidity       1457 non-null   float64\n",
      " 7   hour_bef_visibility     1457 non-null   float64\n",
      " 8   hour_bef_ozone          1383 non-null   float64\n",
      " 9   hour_bef_pm10           1369 non-null   float64\n",
      " 10  hour_bef_pm2.5          1342 non-null   float64\n",
      " 11  count                   1457 non-null   float64\n",
      "dtypes: float64(9), int64(3)\n",
      "memory usage: 136.7 KB\n"
     ]
    }
   ],
   "source": [
    "#해당 데이터의 경우 id와 대여수만 존재하므로 결측치를 대체하기가 애매함.\n",
    "#같은 아이디를 공유하는 데이터를 확인\n",
    "# 같은 아이디를 공유하는 데이터가 없음을 확인 두 컬럼은 삭제해도 무방할듯\n",
    "ttareun_data.drop(x ,inplace=True)\n",
    "ttareun_data.reset_index(inplace=True)\n",
    "ttareun_data.info()"
   ]
  },
  {
   "attachments": {},
   "cell_type": "markdown",
   "metadata": {},
   "source": [
    "##### [2] 풍속 결측치"
   ]
  },
  {
   "cell_type": "code",
   "execution_count": 6,
   "metadata": {},
   "outputs": [
    {
     "data": {
      "text/html": [
       "<div>\n",
       "<style scoped>\n",
       "    .dataframe tbody tr th:only-of-type {\n",
       "        vertical-align: middle;\n",
       "    }\n",
       "\n",
       "    .dataframe tbody tr th {\n",
       "        vertical-align: top;\n",
       "    }\n",
       "\n",
       "    .dataframe thead th {\n",
       "        text-align: right;\n",
       "    }\n",
       "</style>\n",
       "<table border=\"1\" class=\"dataframe\">\n",
       "  <thead>\n",
       "    <tr style=\"text-align: right;\">\n",
       "      <th></th>\n",
       "      <th>index</th>\n",
       "      <th>id</th>\n",
       "      <th>hour</th>\n",
       "      <th>hour_bef_temperature</th>\n",
       "      <th>hour_bef_precipitation</th>\n",
       "      <th>hour_bef_windspeed</th>\n",
       "      <th>hour_bef_humidity</th>\n",
       "      <th>hour_bef_visibility</th>\n",
       "      <th>hour_bef_ozone</th>\n",
       "      <th>hour_bef_pm10</th>\n",
       "      <th>hour_bef_pm2.5</th>\n",
       "      <th>count</th>\n",
       "    </tr>\n",
       "  </thead>\n",
       "  <tbody>\n",
       "    <tr>\n",
       "      <th>18</th>\n",
       "      <td>18</td>\n",
       "      <td>33</td>\n",
       "      <td>13</td>\n",
       "      <td>22.6</td>\n",
       "      <td>0.0</td>\n",
       "      <td>NaN</td>\n",
       "      <td>41.0</td>\n",
       "      <td>987.0</td>\n",
       "      <td>0.046</td>\n",
       "      <td>64.0</td>\n",
       "      <td>39.0</td>\n",
       "      <td>208.0</td>\n",
       "    </tr>\n",
       "    <tr>\n",
       "      <th>244</th>\n",
       "      <td>244</td>\n",
       "      <td>381</td>\n",
       "      <td>1</td>\n",
       "      <td>14.1</td>\n",
       "      <td>0.0</td>\n",
       "      <td>NaN</td>\n",
       "      <td>55.0</td>\n",
       "      <td>1992.0</td>\n",
       "      <td>NaN</td>\n",
       "      <td>NaN</td>\n",
       "      <td>NaN</td>\n",
       "      <td>38.0</td>\n",
       "    </tr>\n",
       "    <tr>\n",
       "      <th>260</th>\n",
       "      <td>260</td>\n",
       "      <td>404</td>\n",
       "      <td>3</td>\n",
       "      <td>14.0</td>\n",
       "      <td>0.0</td>\n",
       "      <td>NaN</td>\n",
       "      <td>50.0</td>\n",
       "      <td>2000.0</td>\n",
       "      <td>0.049</td>\n",
       "      <td>35.0</td>\n",
       "      <td>22.0</td>\n",
       "      <td>17.0</td>\n",
       "    </tr>\n",
       "    <tr>\n",
       "      <th>376</th>\n",
       "      <td>376</td>\n",
       "      <td>570</td>\n",
       "      <td>0</td>\n",
       "      <td>14.3</td>\n",
       "      <td>0.0</td>\n",
       "      <td>NaN</td>\n",
       "      <td>49.0</td>\n",
       "      <td>2000.0</td>\n",
       "      <td>0.044</td>\n",
       "      <td>37.0</td>\n",
       "      <td>20.0</td>\n",
       "      <td>58.0</td>\n",
       "    </tr>\n",
       "    <tr>\n",
       "      <th>780</th>\n",
       "      <td>780</td>\n",
       "      <td>1196</td>\n",
       "      <td>20</td>\n",
       "      <td>16.5</td>\n",
       "      <td>0.0</td>\n",
       "      <td>NaN</td>\n",
       "      <td>31.0</td>\n",
       "      <td>2000.0</td>\n",
       "      <td>0.058</td>\n",
       "      <td>39.0</td>\n",
       "      <td>18.0</td>\n",
       "      <td>181.0</td>\n",
       "    </tr>\n",
       "    <tr>\n",
       "      <th>1136</th>\n",
       "      <td>1138</td>\n",
       "      <td>1717</td>\n",
       "      <td>12</td>\n",
       "      <td>21.4</td>\n",
       "      <td>0.0</td>\n",
       "      <td>NaN</td>\n",
       "      <td>44.0</td>\n",
       "      <td>1375.0</td>\n",
       "      <td>0.044</td>\n",
       "      <td>61.0</td>\n",
       "      <td>37.0</td>\n",
       "      <td>116.0</td>\n",
       "    </tr>\n",
       "    <tr>\n",
       "      <th>1227</th>\n",
       "      <td>1229</td>\n",
       "      <td>1855</td>\n",
       "      <td>2</td>\n",
       "      <td>14.0</td>\n",
       "      <td>0.0</td>\n",
       "      <td>NaN</td>\n",
       "      <td>52.0</td>\n",
       "      <td>2000.0</td>\n",
       "      <td>0.044</td>\n",
       "      <td>37.0</td>\n",
       "      <td>20.0</td>\n",
       "      <td>20.0</td>\n",
       "    </tr>\n",
       "  </tbody>\n",
       "</table>\n",
       "</div>"
      ],
      "text/plain": [
       "      index    id  hour  hour_bef_temperature  hour_bef_precipitation  \\\n",
       "18       18    33    13                  22.6                     0.0   \n",
       "244     244   381     1                  14.1                     0.0   \n",
       "260     260   404     3                  14.0                     0.0   \n",
       "376     376   570     0                  14.3                     0.0   \n",
       "780     780  1196    20                  16.5                     0.0   \n",
       "1136   1138  1717    12                  21.4                     0.0   \n",
       "1227   1229  1855     2                  14.0                     0.0   \n",
       "\n",
       "      hour_bef_windspeed  hour_bef_humidity  hour_bef_visibility  \\\n",
       "18                   NaN               41.0                987.0   \n",
       "244                  NaN               55.0               1992.0   \n",
       "260                  NaN               50.0               2000.0   \n",
       "376                  NaN               49.0               2000.0   \n",
       "780                  NaN               31.0               2000.0   \n",
       "1136                 NaN               44.0               1375.0   \n",
       "1227                 NaN               52.0               2000.0   \n",
       "\n",
       "      hour_bef_ozone  hour_bef_pm10  hour_bef_pm2.5  count  \n",
       "18             0.046           64.0            39.0  208.0  \n",
       "244              NaN            NaN             NaN   38.0  \n",
       "260            0.049           35.0            22.0   17.0  \n",
       "376            0.044           37.0            20.0   58.0  \n",
       "780            0.058           39.0            18.0  181.0  \n",
       "1136           0.044           61.0            37.0  116.0  \n",
       "1227           0.044           37.0            20.0   20.0  "
      ]
     },
     "execution_count": 6,
     "metadata": {},
     "output_type": "execute_result"
    }
   ],
   "source": [
    "ttareun_data[ttareun_data.hour_bef_windspeed.isnull() ==True]"
   ]
  },
  {
   "cell_type": "code",
   "execution_count": 7,
   "metadata": {},
   "outputs": [],
   "source": [
    "na_index_list = ttareun_data[ttareun_data.hour_bef_windspeed.isnull() ==True].index\n",
    "for i in na_index_list:\n",
    "    ttareun_data['hour_bef_windspeed'][i] = round(ttareun_data[ttareun_data.hour==ttareun_data.iloc[i]['hour']].hour_bef_windspeed.mean(),2)\n",
    "# 풍속은 날마다 다르기 때문에 함부로 아이디가 같다고 대체할 수 없음.\n",
    "# 시간에 따른 평균 값으로 대체\n"
   ]
  },
  {
   "cell_type": "code",
   "execution_count": 8,
   "metadata": {},
   "outputs": [
    {
     "data": {
      "text/html": [
       "<div>\n",
       "<style scoped>\n",
       "    .dataframe tbody tr th:only-of-type {\n",
       "        vertical-align: middle;\n",
       "    }\n",
       "\n",
       "    .dataframe tbody tr th {\n",
       "        vertical-align: top;\n",
       "    }\n",
       "\n",
       "    .dataframe thead th {\n",
       "        text-align: right;\n",
       "    }\n",
       "</style>\n",
       "<table border=\"1\" class=\"dataframe\">\n",
       "  <thead>\n",
       "    <tr style=\"text-align: right;\">\n",
       "      <th></th>\n",
       "      <th>index</th>\n",
       "      <th>id</th>\n",
       "      <th>hour</th>\n",
       "      <th>hour_bef_temperature</th>\n",
       "      <th>hour_bef_precipitation</th>\n",
       "      <th>hour_bef_windspeed</th>\n",
       "      <th>hour_bef_humidity</th>\n",
       "      <th>hour_bef_visibility</th>\n",
       "      <th>hour_bef_ozone</th>\n",
       "      <th>hour_bef_pm10</th>\n",
       "      <th>hour_bef_pm2.5</th>\n",
       "      <th>count</th>\n",
       "    </tr>\n",
       "  </thead>\n",
       "  <tbody>\n",
       "    <tr>\n",
       "      <th>18</th>\n",
       "      <td>18</td>\n",
       "      <td>33</td>\n",
       "      <td>13</td>\n",
       "      <td>22.6</td>\n",
       "      <td>0.0</td>\n",
       "      <td>3.28</td>\n",
       "      <td>41.0</td>\n",
       "      <td>987.0</td>\n",
       "      <td>0.046</td>\n",
       "      <td>64.0</td>\n",
       "      <td>39.0</td>\n",
       "      <td>208.0</td>\n",
       "    </tr>\n",
       "    <tr>\n",
       "      <th>244</th>\n",
       "      <td>244</td>\n",
       "      <td>381</td>\n",
       "      <td>1</td>\n",
       "      <td>14.1</td>\n",
       "      <td>0.0</td>\n",
       "      <td>1.84</td>\n",
       "      <td>55.0</td>\n",
       "      <td>1992.0</td>\n",
       "      <td>NaN</td>\n",
       "      <td>NaN</td>\n",
       "      <td>NaN</td>\n",
       "      <td>38.0</td>\n",
       "    </tr>\n",
       "    <tr>\n",
       "      <th>260</th>\n",
       "      <td>260</td>\n",
       "      <td>404</td>\n",
       "      <td>3</td>\n",
       "      <td>14.0</td>\n",
       "      <td>0.0</td>\n",
       "      <td>1.62</td>\n",
       "      <td>50.0</td>\n",
       "      <td>2000.0</td>\n",
       "      <td>0.049</td>\n",
       "      <td>35.0</td>\n",
       "      <td>22.0</td>\n",
       "      <td>17.0</td>\n",
       "    </tr>\n",
       "    <tr>\n",
       "      <th>376</th>\n",
       "      <td>376</td>\n",
       "      <td>570</td>\n",
       "      <td>0</td>\n",
       "      <td>14.3</td>\n",
       "      <td>0.0</td>\n",
       "      <td>1.97</td>\n",
       "      <td>49.0</td>\n",
       "      <td>2000.0</td>\n",
       "      <td>0.044</td>\n",
       "      <td>37.0</td>\n",
       "      <td>20.0</td>\n",
       "      <td>58.0</td>\n",
       "    </tr>\n",
       "    <tr>\n",
       "      <th>780</th>\n",
       "      <td>780</td>\n",
       "      <td>1196</td>\n",
       "      <td>20</td>\n",
       "      <td>16.5</td>\n",
       "      <td>0.0</td>\n",
       "      <td>3.28</td>\n",
       "      <td>31.0</td>\n",
       "      <td>2000.0</td>\n",
       "      <td>0.058</td>\n",
       "      <td>39.0</td>\n",
       "      <td>18.0</td>\n",
       "      <td>181.0</td>\n",
       "    </tr>\n",
       "    <tr>\n",
       "      <th>1136</th>\n",
       "      <td>1138</td>\n",
       "      <td>1717</td>\n",
       "      <td>12</td>\n",
       "      <td>21.4</td>\n",
       "      <td>0.0</td>\n",
       "      <td>2.77</td>\n",
       "      <td>44.0</td>\n",
       "      <td>1375.0</td>\n",
       "      <td>0.044</td>\n",
       "      <td>61.0</td>\n",
       "      <td>37.0</td>\n",
       "      <td>116.0</td>\n",
       "    </tr>\n",
       "    <tr>\n",
       "      <th>1227</th>\n",
       "      <td>1229</td>\n",
       "      <td>1855</td>\n",
       "      <td>2</td>\n",
       "      <td>14.0</td>\n",
       "      <td>0.0</td>\n",
       "      <td>1.63</td>\n",
       "      <td>52.0</td>\n",
       "      <td>2000.0</td>\n",
       "      <td>0.044</td>\n",
       "      <td>37.0</td>\n",
       "      <td>20.0</td>\n",
       "      <td>20.0</td>\n",
       "    </tr>\n",
       "  </tbody>\n",
       "</table>\n",
       "</div>"
      ],
      "text/plain": [
       "      index    id  hour  hour_bef_temperature  hour_bef_precipitation  \\\n",
       "18       18    33    13                  22.6                     0.0   \n",
       "244     244   381     1                  14.1                     0.0   \n",
       "260     260   404     3                  14.0                     0.0   \n",
       "376     376   570     0                  14.3                     0.0   \n",
       "780     780  1196    20                  16.5                     0.0   \n",
       "1136   1138  1717    12                  21.4                     0.0   \n",
       "1227   1229  1855     2                  14.0                     0.0   \n",
       "\n",
       "      hour_bef_windspeed  hour_bef_humidity  hour_bef_visibility  \\\n",
       "18                  3.28               41.0                987.0   \n",
       "244                 1.84               55.0               1992.0   \n",
       "260                 1.62               50.0               2000.0   \n",
       "376                 1.97               49.0               2000.0   \n",
       "780                 3.28               31.0               2000.0   \n",
       "1136                2.77               44.0               1375.0   \n",
       "1227                1.63               52.0               2000.0   \n",
       "\n",
       "      hour_bef_ozone  hour_bef_pm10  hour_bef_pm2.5  count  \n",
       "18             0.046           64.0            39.0  208.0  \n",
       "244              NaN            NaN             NaN   38.0  \n",
       "260            0.049           35.0            22.0   17.0  \n",
       "376            0.044           37.0            20.0   58.0  \n",
       "780            0.058           39.0            18.0  181.0  \n",
       "1136           0.044           61.0            37.0  116.0  \n",
       "1227           0.044           37.0            20.0   20.0  "
      ]
     },
     "execution_count": 8,
     "metadata": {},
     "output_type": "execute_result"
    }
   ],
   "source": [
    "ttareun_data.iloc[na_index_list]\n",
    "#잘 대체된 모습이다."
   ]
  },
  {
   "attachments": {},
   "cell_type": "markdown",
   "metadata": {},
   "source": [
    "##### [3] 오존, 미세먼지, 초미세먼지\n",
    "##### chatgpt의 의견\n",
    "- 온도: 고온일수록 오존 생성량이 증가합니다. 이는 이산화질소와 탄화수소 등의 오염물질이 일정 온도에서 화학 반응을 일으켜 오존이 생성되기 때문입니다.\n",
    "- 풍속: 풍속이 강할수록 오존의 농도가 낮아집니다. 이는 오존이 바람에 의해 희석되고, 대기 중 다른 물질과 혼합되어 확산되기 때문입니다.\n",
    "- 그러나 딱히 큰 영향X 상관관계 자체가 떨어짐 "
   ]
  },
  {
   "cell_type": "code",
   "execution_count": 9,
   "metadata": {},
   "outputs": [
    {
     "name": "stdout",
     "output_type": "stream",
     "text": [
      "1     61\n",
      "16     3\n",
      "17     2\n",
      "10     1\n",
      "18     1\n",
      "12     1\n",
      "7      1\n",
      "11     1\n",
      "15     1\n",
      "6      1\n",
      "13     1\n",
      "Name: hour, dtype: int64\n"
     ]
    }
   ],
   "source": [
    "#오존\n",
    "print(ttareun_data[ttareun_data.hour_bef_ozone.isnull() ==True].hour.value_counts())\n",
    "#1시 측정된 데이터에서의 오존 데이터가 많이 없음을 확인"
   ]
  },
  {
   "cell_type": "code",
   "execution_count": 10,
   "metadata": {},
   "outputs": [
    {
     "name": "stdout",
     "output_type": "stream",
     "text": [
      "0.034\n",
      "0.03\n",
      "\n",
      "분포 역시 거의 유사할것으로 예상\n",
      "count    59.000000\n",
      "mean      0.033763\n",
      "std       0.016296\n",
      "min       0.003000\n",
      "25%       0.022500\n",
      "50%       0.035000\n",
      "75%       0.042500\n",
      "max       0.074000\n",
      "Name: hour_bef_ozone, dtype: float64\n",
      "count    61.000000\n",
      "mean      0.030492\n",
      "std       0.016567\n",
      "min       0.003000\n",
      "25%       0.018000\n",
      "50%       0.031000\n",
      "75%       0.039000\n",
      "max       0.083000\n",
      "Name: hour_bef_ozone, dtype: float64\n"
     ]
    },
    {
     "data": {
      "text/html": [
       "<div>\n",
       "<style scoped>\n",
       "    .dataframe tbody tr th:only-of-type {\n",
       "        vertical-align: middle;\n",
       "    }\n",
       "\n",
       "    .dataframe tbody tr th {\n",
       "        vertical-align: top;\n",
       "    }\n",
       "\n",
       "    .dataframe thead th {\n",
       "        text-align: right;\n",
       "    }\n",
       "</style>\n",
       "<table border=\"1\" class=\"dataframe\">\n",
       "  <thead>\n",
       "    <tr style=\"text-align: right;\">\n",
       "      <th></th>\n",
       "      <th>0시</th>\n",
       "      <th>2시</th>\n",
       "    </tr>\n",
       "  </thead>\n",
       "  <tbody>\n",
       "    <tr>\n",
       "      <th>count</th>\n",
       "      <td>59.000000</td>\n",
       "      <td>59.000000</td>\n",
       "    </tr>\n",
       "    <tr>\n",
       "      <th>mean</th>\n",
       "      <td>0.033763</td>\n",
       "      <td>0.030559</td>\n",
       "    </tr>\n",
       "    <tr>\n",
       "      <th>std</th>\n",
       "      <td>0.016296</td>\n",
       "      <td>0.016710</td>\n",
       "    </tr>\n",
       "    <tr>\n",
       "      <th>min</th>\n",
       "      <td>0.003000</td>\n",
       "      <td>0.003000</td>\n",
       "    </tr>\n",
       "    <tr>\n",
       "      <th>25%</th>\n",
       "      <td>0.022500</td>\n",
       "      <td>0.019000</td>\n",
       "    </tr>\n",
       "    <tr>\n",
       "      <th>50%</th>\n",
       "      <td>0.035000</td>\n",
       "      <td>0.031000</td>\n",
       "    </tr>\n",
       "    <tr>\n",
       "      <th>75%</th>\n",
       "      <td>0.042500</td>\n",
       "      <td>0.038500</td>\n",
       "    </tr>\n",
       "    <tr>\n",
       "      <th>max</th>\n",
       "      <td>0.074000</td>\n",
       "      <td>0.083000</td>\n",
       "    </tr>\n",
       "  </tbody>\n",
       "</table>\n",
       "</div>"
      ],
      "text/plain": [
       "              0시         2시\n",
       "count  59.000000  59.000000\n",
       "mean    0.033763   0.030559\n",
       "std     0.016296   0.016710\n",
       "min     0.003000   0.003000\n",
       "25%     0.022500   0.019000\n",
       "50%     0.035000   0.031000\n",
       "75%     0.042500   0.038500\n",
       "max     0.074000   0.083000"
      ]
     },
     "execution_count": 10,
     "metadata": {},
     "output_type": "execute_result"
    }
   ],
   "source": [
    "#시간대 별 오존 농도의 평균은 거의 유사함\n",
    "print(round(ttareun_data[ttareun_data.hour == 0].hour_bef_ozone.mean(),3))\n",
    "print(round(ttareun_data[ttareun_data.hour == 2].hour_bef_ozone.mean(),3))\n",
    "print()\n",
    "print('분포 역시 거의 유사할것으로 예상')\n",
    "print(ttareun_data[ttareun_data.hour == 0].hour_bef_ozone.describe())\n",
    "print(ttareun_data[ttareun_data.hour == 2].hour_bef_ozone.describe())\n",
    "hour_0and2_ozone= pd.DataFrame(zip(ttareun_data[ttareun_data.hour == 0].hour_bef_ozone,ttareun_data[ttareun_data.hour == 2].hour_bef_ozone),columns=['0시','2시'])\n",
    "hour_0and2_ozone.describe()\n",
    "#시간대로 결측치를 추정해서 대체할까하다가 시간 부족으로 인해\n",
    "#impute.iterative를 이용한 결측치 추정이 적합할 것으로 예상"
   ]
  },
  {
   "cell_type": "code",
   "execution_count": 11,
   "metadata": {},
   "outputs": [
    {
     "data": {
      "text/plain": [
       "(array([ 8.,  8.,  8., 12., 16.,  3.,  2.,  3.,  0.,  1.]),\n",
       " array([0.003, 0.011, 0.019, 0.027, 0.035, 0.043, 0.051, 0.059, 0.067,\n",
       "        0.075, 0.083]),\n",
       " <BarContainer object of 10 artists>)"
      ]
     },
     "execution_count": 11,
     "metadata": {},
     "output_type": "execute_result"
    },
    {
     "data": {
      "image/png": "[encoded data removed]",
      "text/plain": [
       "<Figure size 640x480 with 1 Axes>"
      ]
     },
     "metadata": {},
     "output_type": "display_data"
    }
   ],
   "source": [
    "plt.hist(ttareun_data[ttareun_data.hour == 2].hour_bef_ozone)\n"
   ]
  },
  {
   "cell_type": "code",
   "execution_count": 12,
   "metadata": {},
   "outputs": [
    {
     "data": {
      "text/plain": [
       "(array([ 6.,  7.,  3.,  6., 16., 11.,  2.,  4.,  3.,  1.]),\n",
       " array([0.003 , 0.0101, 0.0172, 0.0243, 0.0314, 0.0385, 0.0456, 0.0527,\n",
       "        0.0598, 0.0669, 0.074 ]),\n",
       " <BarContainer object of 10 artists>)"
      ]
     },
     "execution_count": 12,
     "metadata": {},
     "output_type": "execute_result"
    },
    {
     "data": {
      "image/png": "[encoded data removed]",
      "text/plain": [
       "<Figure size 640x480 with 1 Axes>"
      ]
     },
     "metadata": {},
     "output_type": "display_data"
    }
   ],
   "source": [
    "plt.hist(ttareun_data[ttareun_data.hour == 0].hour_bef_ozone)\n"
   ]
  },
  {
   "cell_type": "code",
   "execution_count": 13,
   "metadata": {},
   "outputs": [],
   "source": [
    "#하기 전에 id와 index는 삭제\n",
    "ttareun_data.drop(['id', 'index'],axis=1, inplace=True)"
   ]
  },
  {
   "cell_type": "code",
   "execution_count": 14,
   "metadata": {},
   "outputs": [],
   "source": [
    "#나머지 결측치 대체  IterativeImputer\n",
    "  \n",
    "from sklearn.experimental  import enable_iterative_imputer\n",
    "from sklearn.impute import IterativeImputer\n",
    "imputer = IterativeImputer()\n",
    "ttareun_data_fill_na_array = imputer.fit_transform(ttareun_data)"
   ]
  },
  {
   "cell_type": "code",
   "execution_count": 15,
   "metadata": {},
   "outputs": [
    {
     "data": {
      "text/html": [
       "<div>\n",
       "<style scoped>\n",
       "    .dataframe tbody tr th:only-of-type {\n",
       "        vertical-align: middle;\n",
       "    }\n",
       "\n",
       "    .dataframe tbody tr th {\n",
       "        vertical-align: top;\n",
       "    }\n",
       "\n",
       "    .dataframe thead th {\n",
       "        text-align: right;\n",
       "    }\n",
       "</style>\n",
       "<table border=\"1\" class=\"dataframe\">\n",
       "  <thead>\n",
       "    <tr style=\"text-align: right;\">\n",
       "      <th></th>\n",
       "      <th>hour</th>\n",
       "      <th>hour_bef_temperature</th>\n",
       "      <th>hour_bef_precipitation</th>\n",
       "      <th>hour_bef_windspeed</th>\n",
       "      <th>hour_bef_humidity</th>\n",
       "      <th>hour_bef_visibility</th>\n",
       "      <th>hour_bef_ozone</th>\n",
       "      <th>hour_bef_pm10</th>\n",
       "      <th>hour_bef_pm2.5</th>\n",
       "      <th>count</th>\n",
       "    </tr>\n",
       "  </thead>\n",
       "  <tbody>\n",
       "    <tr>\n",
       "      <th>0</th>\n",
       "      <td>20.0</td>\n",
       "      <td>16.3</td>\n",
       "      <td>1.0</td>\n",
       "      <td>1.5</td>\n",
       "      <td>89.0</td>\n",
       "      <td>576.0</td>\n",
       "      <td>0.027</td>\n",
       "      <td>76.0</td>\n",
       "      <td>33.0</td>\n",
       "      <td>49.0</td>\n",
       "    </tr>\n",
       "    <tr>\n",
       "      <th>1</th>\n",
       "      <td>13.0</td>\n",
       "      <td>20.1</td>\n",
       "      <td>0.0</td>\n",
       "      <td>1.4</td>\n",
       "      <td>48.0</td>\n",
       "      <td>916.0</td>\n",
       "      <td>0.042</td>\n",
       "      <td>73.0</td>\n",
       "      <td>40.0</td>\n",
       "      <td>159.0</td>\n",
       "    </tr>\n",
       "    <tr>\n",
       "      <th>2</th>\n",
       "      <td>6.0</td>\n",
       "      <td>13.9</td>\n",
       "      <td>0.0</td>\n",
       "      <td>0.7</td>\n",
       "      <td>79.0</td>\n",
       "      <td>1382.0</td>\n",
       "      <td>0.033</td>\n",
       "      <td>32.0</td>\n",
       "      <td>19.0</td>\n",
       "      <td>26.0</td>\n",
       "    </tr>\n",
       "    <tr>\n",
       "      <th>3</th>\n",
       "      <td>23.0</td>\n",
       "      <td>8.1</td>\n",
       "      <td>0.0</td>\n",
       "      <td>2.7</td>\n",
       "      <td>54.0</td>\n",
       "      <td>946.0</td>\n",
       "      <td>0.040</td>\n",
       "      <td>75.0</td>\n",
       "      <td>64.0</td>\n",
       "      <td>57.0</td>\n",
       "    </tr>\n",
       "    <tr>\n",
       "      <th>4</th>\n",
       "      <td>18.0</td>\n",
       "      <td>29.5</td>\n",
       "      <td>0.0</td>\n",
       "      <td>4.8</td>\n",
       "      <td>7.0</td>\n",
       "      <td>2000.0</td>\n",
       "      <td>0.057</td>\n",
       "      <td>27.0</td>\n",
       "      <td>11.0</td>\n",
       "      <td>431.0</td>\n",
       "    </tr>\n",
       "    <tr>\n",
       "      <th>...</th>\n",
       "      <td>...</td>\n",
       "      <td>...</td>\n",
       "      <td>...</td>\n",
       "      <td>...</td>\n",
       "      <td>...</td>\n",
       "      <td>...</td>\n",
       "      <td>...</td>\n",
       "      <td>...</td>\n",
       "      <td>...</td>\n",
       "      <td>...</td>\n",
       "    </tr>\n",
       "    <tr>\n",
       "      <th>1452</th>\n",
       "      <td>4.0</td>\n",
       "      <td>16.8</td>\n",
       "      <td>0.0</td>\n",
       "      <td>1.6</td>\n",
       "      <td>53.0</td>\n",
       "      <td>2000.0</td>\n",
       "      <td>0.031</td>\n",
       "      <td>37.0</td>\n",
       "      <td>27.0</td>\n",
       "      <td>21.0</td>\n",
       "    </tr>\n",
       "    <tr>\n",
       "      <th>1453</th>\n",
       "      <td>3.0</td>\n",
       "      <td>10.8</td>\n",
       "      <td>0.0</td>\n",
       "      <td>3.8</td>\n",
       "      <td>45.0</td>\n",
       "      <td>2000.0</td>\n",
       "      <td>0.039</td>\n",
       "      <td>34.0</td>\n",
       "      <td>19.0</td>\n",
       "      <td>20.0</td>\n",
       "    </tr>\n",
       "    <tr>\n",
       "      <th>1454</th>\n",
       "      <td>5.0</td>\n",
       "      <td>18.3</td>\n",
       "      <td>0.0</td>\n",
       "      <td>1.9</td>\n",
       "      <td>54.0</td>\n",
       "      <td>2000.0</td>\n",
       "      <td>0.009</td>\n",
       "      <td>30.0</td>\n",
       "      <td>21.0</td>\n",
       "      <td>22.0</td>\n",
       "    </tr>\n",
       "    <tr>\n",
       "      <th>1455</th>\n",
       "      <td>21.0</td>\n",
       "      <td>20.7</td>\n",
       "      <td>0.0</td>\n",
       "      <td>3.7</td>\n",
       "      <td>37.0</td>\n",
       "      <td>1395.0</td>\n",
       "      <td>0.082</td>\n",
       "      <td>71.0</td>\n",
       "      <td>36.0</td>\n",
       "      <td>216.0</td>\n",
       "    </tr>\n",
       "    <tr>\n",
       "      <th>1456</th>\n",
       "      <td>17.0</td>\n",
       "      <td>21.1</td>\n",
       "      <td>0.0</td>\n",
       "      <td>3.1</td>\n",
       "      <td>47.0</td>\n",
       "      <td>1973.0</td>\n",
       "      <td>0.046</td>\n",
       "      <td>38.0</td>\n",
       "      <td>17.0</td>\n",
       "      <td>170.0</td>\n",
       "    </tr>\n",
       "  </tbody>\n",
       "</table>\n",
       "<p>1457 rows × 10 columns</p>\n",
       "</div>"
      ],
      "text/plain": [
       "      hour  hour_bef_temperature  hour_bef_precipitation  hour_bef_windspeed  \\\n",
       "0     20.0                  16.3                     1.0                 1.5   \n",
       "1     13.0                  20.1                     0.0                 1.4   \n",
       "2      6.0                  13.9                     0.0                 0.7   \n",
       "3     23.0                   8.1                     0.0                 2.7   \n",
       "4     18.0                  29.5                     0.0                 4.8   \n",
       "...    ...                   ...                     ...                 ...   \n",
       "1452   4.0                  16.8                     0.0                 1.6   \n",
       "1453   3.0                  10.8                     0.0                 3.8   \n",
       "1454   5.0                  18.3                     0.0                 1.9   \n",
       "1455  21.0                  20.7                     0.0                 3.7   \n",
       "1456  17.0                  21.1                     0.0                 3.1   \n",
       "\n",
       "      hour_bef_humidity  hour_bef_visibility  hour_bef_ozone  hour_bef_pm10  \\\n",
       "0                  89.0                576.0           0.027           76.0   \n",
       "1                  48.0                916.0           0.042           73.0   \n",
       "2                  79.0               1382.0           0.033           32.0   \n",
       "3                  54.0                946.0           0.040           75.0   \n",
       "4                   7.0               2000.0           0.057           27.0   \n",
       "...                 ...                  ...             ...            ...   \n",
       "1452               53.0               2000.0           0.031           37.0   \n",
       "1453               45.0               2000.0           0.039           34.0   \n",
       "1454               54.0               2000.0           0.009           30.0   \n",
       "1455               37.0               1395.0           0.082           71.0   \n",
       "1456               47.0               1973.0           0.046           38.0   \n",
       "\n",
       "      hour_bef_pm2.5  count  \n",
       "0               33.0   49.0  \n",
       "1               40.0  159.0  \n",
       "2               19.0   26.0  \n",
       "3               64.0   57.0  \n",
       "4               11.0  431.0  \n",
       "...              ...    ...  \n",
       "1452            27.0   21.0  \n",
       "1453            19.0   20.0  \n",
       "1454            21.0   22.0  \n",
       "1455            36.0  216.0  \n",
       "1456            17.0  170.0  \n",
       "\n",
       "[1457 rows x 10 columns]"
      ]
     },
     "execution_count": 15,
     "metadata": {},
     "output_type": "execute_result"
    }
   ],
   "source": [
    "ttareun_df = pd.DataFrame(ttareun_data_fill_na_array,columns=ttareun_data.columns)\n",
    "ttareun_df"
   ]
  },
  {
   "cell_type": "code",
   "execution_count": 16,
   "metadata": {},
   "outputs": [
    {
     "name": "stdout",
     "output_type": "stream",
     "text": [
      "<class 'pandas.core.frame.DataFrame'>\n",
      "RangeIndex: 1457 entries, 0 to 1456\n",
      "Data columns (total 10 columns):\n",
      " #   Column                  Non-Null Count  Dtype  \n",
      "---  ------                  --------------  -----  \n",
      " 0   hour                    1457 non-null   float64\n",
      " 1   hour_bef_temperature    1457 non-null   float64\n",
      " 2   hour_bef_precipitation  1457 non-null   float64\n",
      " 3   hour_bef_windspeed      1457 non-null   float64\n",
      " 4   hour_bef_humidity       1457 non-null   float64\n",
      " 5   hour_bef_visibility     1457 non-null   float64\n",
      " 6   hour_bef_ozone          1457 non-null   float64\n",
      " 7   hour_bef_pm10           1457 non-null   float64\n",
      " 8   hour_bef_pm2.5          1457 non-null   float64\n",
      " 9   count                   1457 non-null   float64\n",
      "dtypes: float64(10)\n",
      "memory usage: 114.0 KB\n"
     ]
    }
   ],
   "source": [
    "ttareun_df.info()\n",
    "#결측치가 제거된 상태"
   ]
  },
  {
   "cell_type": "code",
   "execution_count": 17,
   "metadata": {},
   "outputs": [
    {
     "name": "stdout",
     "output_type": "stream",
     "text": [
      "count    61.000000\n",
      "mean      0.028964\n",
      "std       0.006850\n",
      "min       0.009526\n",
      "25%       0.025588\n",
      "50%       0.029009\n",
      "75%       0.032362\n",
      "max       0.053141\n",
      "Name: hour_bef_ozone, dtype: float64\n",
      "0.028964135776185885\n"
     ]
    },
    {
     "data": {
      "text/plain": [
       "(array([ 1.,  2.,  6., 13., 19., 12.,  5.,  2.,  0.,  1.]),\n",
       " array([0.00952587, 0.01388735, 0.01824883, 0.02261031, 0.02697178,\n",
       "        0.03133326, 0.03569474, 0.04005622, 0.0444177 , 0.04877918,\n",
       "        0.05314066]),\n",
       " <BarContainer object of 10 artists>)"
      ]
     },
     "execution_count": 17,
     "metadata": {},
     "output_type": "execute_result"
    },
    {
     "data": {
      "image/png": "[encoded data removed]",
      "text/plain": [
       "<Figure size 640x480 with 1 Axes>"
      ]
     },
     "metadata": {},
     "output_type": "display_data"
    }
   ],
   "source": [
    "print(ttareun_df[ttareun_df.hour == 1].hour_bef_ozone.describe())\n",
    "print(ttareun_df[ttareun_df.hour == 1].hour_bef_ozone.describe()['mean'])\n",
    "plt.hist(ttareun_df[ttareun_df.hour == 1].hour_bef_ozone)\n",
    "#잘 대체된 모습이다"
   ]
  },
  {
   "cell_type": "code",
   "execution_count": 18,
   "metadata": {},
   "outputs": [
    {
     "name": "stdout",
     "output_type": "stream",
     "text": [
      "hour열에 0값이 59개 있습니다.\n",
      "hour_bef_precipitation열에 0값이 1411개 있습니다.\n",
      "hour_bef_windspeed열에 0값이 3개 있습니다.\n",
      "결측치가 있습니다\n",
      "해당 데이터는 충분히 가능한 데이터임\n"
     ]
    }
   ],
   "source": [
    "check_na(ttareun_data,target=['?',0])\n",
    "print('해당 데이터는 충분히 가능한 데이터임')\n",
    "#바람이 안 불 수 있으므로 ㅇㅈ\n"
   ]
  },
  {
   "cell_type": "markdown",
   "metadata": {},
   "source": [
    "---\n",
    "#### 상관분석\n",
    "##### 예측의 경우, 변수간 상관관계가 있을 시에는 제외하는 것이 좋다.\n",
    "---"
   ]
  },
  {
   "cell_type": "code",
   "execution_count": 19,
   "metadata": {},
   "outputs": [],
   "source": [
    "cor_df= ttareun_df.corr()\n"
   ]
  },
  {
   "cell_type": "code",
   "execution_count": 20,
   "metadata": {},
   "outputs": [
    {
     "data": {
      "image/png": "[encoded data removed]",
      "text/plain": [
       "<Figure size 700x700 with 2 Axes>"
      ]
     },
     "metadata": {},
     "output_type": "display_data"
    }
   ],
   "source": [
    "fig, ax = plt.subplots( figsize=(7,7) )\n",
    "\n",
    "# 삼각형 마스크를 만든다(위 쪽 삼각형에 True, 아래 삼각형에 False)\n",
    "mask = np.zeros_like(cor_df, dtype=np.bool)\n",
    "mask[np.triu_indices_from(mask)] = True\n",
    "\n",
    "# 히트맵을 그린다\n",
    "sns.heatmap(cor_df, \n",
    "            cmap = 'RdYlBu_r', \n",
    "            annot = True,   # 실제 값을 표시한다\n",
    "            mask=mask,      # 표시하지 않을 마스크 부분을 지정한다\n",
    "            linewidths=.5,  # 경계면 실선으로 구분하기\n",
    "            cbar_kws={\"shrink\": .5},# 컬러바 크기 절반으로 줄이기\n",
    "            vmin = -1,vmax = 1   # 컬러바 범위 -1 ~ 1\n",
    "           )  \n",
    "plt.show()\n",
    "#변수 간 상관관계가 커보이지는 않음\n",
    "#온도 가 count의 가장 큰 상관관계를 가짐"
   ]
  },
  {
   "attachments": {},
   "cell_type": "markdown",
   "metadata": {},
   "source": [
    "---\n",
    "### 이상치 및 분포 확인\n",
    "---"
   ]
  },
  {
   "cell_type": "code",
   "execution_count": 21,
   "metadata": {},
   "outputs": [
    {
     "data": {
      "text/plain": [
       "<Figure size 1000x1000 with 0 Axes>"
      ]
     },
     "metadata": {},
     "output_type": "display_data"
    },
    {
     "data": {
      "image/png": "[encoded data removed]",
      "text/plain": [
       "<Figure size 500x500 with 1 Axes>"
      ]
     },
     "metadata": {},
     "output_type": "display_data"
    },
    {
     "data": {
      "image/png": "[encoded data removed]",
      "text/plain": [
       "<Figure size 500x500 with 1 Axes>"
      ]
     },
     "metadata": {},
     "output_type": "display_data"
    },
    {
     "data": {
      "image/png": "[encoded data removed]",
      "text/plain": [
       "<Figure size 500x500 with 1 Axes>"
      ]
     },
     "metadata": {},
     "output_type": "display_data"
    },
    {
     "data": {
      "image/png": "[encoded data removed]",
      "text/plain": [
       "<Figure size 500x500 with 1 Axes>"
      ]
     },
     "metadata": {},
     "output_type": "display_data"
    },
    {
     "data": {
      "image/png": "[encoded data removed]",
      "text/plain": [
       "<Figure size 500x500 with 1 Axes>"
      ]
     },
     "metadata": {},
     "output_type": "display_data"
    },
    {
     "data": {
      "image/png": "[encoded data removed]",
      "text/plain": [
       "<Figure size 500x500 with 1 Axes>"
      ]
     },
     "metadata": {},
     "output_type": "display_data"
    },
    {
     "data": {
      "image/png": "[encoded data removed]",
      "text/plain": [
       "<Figure size 500x500 with 1 Axes>"
      ]
     },
     "metadata": {},
     "output_type": "display_data"
    },
    {
     "data": {
      "image/png": "[encoded data removed]",
      "text/plain": [
       "<Figure size 500x500 with 1 Axes>"
      ]
     },
     "metadata": {},
     "output_type": "display_data"
    },
    {
     "data": {
      "image/png": "[encoded data removed]",
      "text/plain": [
       "<Figure size 500x500 with 1 Axes>"
      ]
     },
     "metadata": {},
     "output_type": "display_data"
    }
   ],
   "source": [
    "plt.figure(figsize=(10,10))\n",
    "col_data = ttareun_df.drop(['hour_bef_precipitation'],axis=1)\n",
    "                  \n",
    "def check_box(data):\n",
    "    for i in data.columns:\n",
    "        plt.figure(figsize = (5,5))\n",
    "        sns.boxplot(data=data[i])\n",
    "        plt.title(f'{i} boxplot')\n",
    "        plt.show()\n",
    "check_box(col_data)\n",
    "# 바람온도 미세먼지에서 이상치가 확인됨"
   ]
  },
  {
   "cell_type": "code",
   "execution_count": 22,
   "metadata": {},
   "outputs": [
    {
     "data": {
      "image/png": "[encoded data removed]",
      "text/plain": [
       "<Figure size 500x500 with 1 Axes>"
      ]
     },
     "metadata": {},
     "output_type": "display_data"
    },
    {
     "data": {
      "image/png": "[encoded data removed]",
      "text/plain": [
       "<Figure size 500x500 with 1 Axes>"
      ]
     },
     "metadata": {},
     "output_type": "display_data"
    },
    {
     "data": {
      "image/png": "[encoded data removed]",
      "text/plain": [
       "<Figure size 500x500 with 1 Axes>"
      ]
     },
     "metadata": {},
     "output_type": "display_data"
    },
    {
     "data": {
      "image/png": "[encoded data removed]",
      "text/plain": [
       "<Figure size 500x500 with 1 Axes>"
      ]
     },
     "metadata": {},
     "output_type": "display_data"
    },
    {
     "data": {
      "image/png": "[encoded data removed]",
      "text/plain": [
       "<Figure size 500x500 with 1 Axes>"
      ]
     },
     "metadata": {},
     "output_type": "display_data"
    },
    {
     "data": {
      "image/png": "[encoded data removed]",
      "text/plain": [
       "<Figure size 500x500 with 1 Axes>"
      ]
     },
     "metadata": {},
     "output_type": "display_data"
    },
    {
     "data": {
      "image/png": "[encoded data removed]",
      "text/plain": [
       "<Figure size 500x500 with 1 Axes>"
      ]
     },
     "metadata": {},
     "output_type": "display_data"
    },
    {
     "data": {
      "image/png": "[encoded data removed]",
      "text/plain": [
       "<Figure size 500x500 with 1 Axes>"
      ]
     },
     "metadata": {},
     "output_type": "display_data"
    },
    {
     "data": {
      "image/png": "[encoded data removed]",
      "text/plain": [
       "<Figure size 500x500 with 1 Axes>"
      ]
     },
     "metadata": {},
     "output_type": "display_data"
    }
   ],
   "source": [
    "def check_distribution(data):\n",
    "    for i in data.columns:\n",
    "        plt.figure(figsize = (5,5))\n",
    "        #열 데이터별 분포확인\n",
    "        sns.histplot(data=data[i])\n",
    "        # 그래프 타이틀 추가\n",
    "        plt.title(f'Histogram of columns {i}')\n",
    "        # 그래프 출력\n",
    "        plt.show()\n",
    "check_distribution(col_data)\n",
    "#시간대의 분포가 균등!"
   ]
  },
  {
   "cell_type": "code",
   "execution_count": 98,
   "metadata": {},
   "outputs": [
    {
     "name": "stdout",
     "output_type": "stream",
     "text": [
      "<class 'pandas.core.frame.DataFrame'>\n",
      "RangeIndex: 1457 entries, 0 to 1456\n",
      "Data columns (total 10 columns):\n",
      " #   Column                  Non-Null Count  Dtype  \n",
      "---  ------                  --------------  -----  \n",
      " 0   hour                    1457 non-null   float64\n",
      " 1   hour_bef_temperature    1457 non-null   float64\n",
      " 2   hour_bef_precipitation  1457 non-null   float64\n",
      " 3   hour_bef_windspeed      1457 non-null   float64\n",
      " 4   hour_bef_humidity       1457 non-null   float64\n",
      " 5   hour_bef_visibility     1457 non-null   float64\n",
      " 6   hour_bef_ozone          1457 non-null   float64\n",
      " 7   hour_bef_pm10           1457 non-null   float64\n",
      " 8   hour_bef_pm2.5          1457 non-null   float64\n",
      " 9   count                   1457 non-null   float64\n",
      "dtypes: float64(10)\n",
      "memory usage: 114.0 KB\n"
     ]
    }
   ],
   "source": [
    "ttareun_df.info()"
   ]
  },
  {
   "cell_type": "code",
   "execution_count": 99,
   "metadata": {},
   "outputs": [],
   "source": [
    "#타겟, 피쳐분리\n",
    "target_data = ttareun_df['count']\n",
    "feature_data = ttareun_df.drop(['count','hour_bef_pm2.5'],axis =1)\n"
   ]
  },
  {
   "cell_type": "code",
   "execution_count": 100,
   "metadata": {},
   "outputs": [
    {
     "data": {
      "text/plain": [
       "(1457, 8)"
      ]
     },
     "execution_count": 100,
     "metadata": {},
     "output_type": "execute_result"
    }
   ],
   "source": [
    "#StandardScaler를 통해 scaling\n",
    "\n",
    "ss = StandardScaler()\n",
    "feature_fit = ss.fit_transform(feature_data)\n",
    "feature_fit.shape"
   ]
  },
  {
   "cell_type": "code",
   "execution_count": 101,
   "metadata": {},
   "outputs": [
    {
     "data": {
      "text/html": [
       "<div>\n",
       "<style scoped>\n",
       "    .dataframe tbody tr th:only-of-type {\n",
       "        vertical-align: middle;\n",
       "    }\n",
       "\n",
       "    .dataframe tbody tr th {\n",
       "        vertical-align: top;\n",
       "    }\n",
       "\n",
       "    .dataframe thead th {\n",
       "        text-align: right;\n",
       "    }\n",
       "</style>\n",
       "<table border=\"1\" class=\"dataframe\">\n",
       "  <thead>\n",
       "    <tr style=\"text-align: right;\">\n",
       "      <th></th>\n",
       "      <th>hour</th>\n",
       "      <th>hour_bef_temperature</th>\n",
       "      <th>hour_bef_precipitation</th>\n",
       "      <th>hour_bef_windspeed</th>\n",
       "      <th>hour_bef_humidity</th>\n",
       "      <th>hour_bef_visibility</th>\n",
       "      <th>hour_bef_ozone</th>\n",
       "      <th>hour_bef_pm10</th>\n",
       "    </tr>\n",
       "  </thead>\n",
       "  <tbody>\n",
       "    <tr>\n",
       "      <th>0</th>\n",
       "      <td>1.229389</td>\n",
       "      <td>-0.079703</td>\n",
       "      <td>5.538403</td>\n",
       "      <td>-0.711364</td>\n",
       "      <td>1.805627</td>\n",
       "      <td>-1.422494</td>\n",
       "      <td>-0.614919</td>\n",
       "      <td>0.601359</td>\n",
       "    </tr>\n",
       "    <tr>\n",
       "      <th>1</th>\n",
       "      <td>0.217319</td>\n",
       "      <td>0.645854</td>\n",
       "      <td>-0.180557</td>\n",
       "      <td>-0.784073</td>\n",
       "      <td>-0.207789</td>\n",
       "      <td>-0.839236</td>\n",
       "      <td>0.166228</td>\n",
       "      <td>0.505286</td>\n",
       "    </tr>\n",
       "    <tr>\n",
       "      <th>2</th>\n",
       "      <td>-0.794752</td>\n",
       "      <td>-0.537950</td>\n",
       "      <td>-0.180557</td>\n",
       "      <td>-1.293035</td>\n",
       "      <td>1.314550</td>\n",
       "      <td>-0.039828</td>\n",
       "      <td>-0.302460</td>\n",
       "      <td>-0.807708</td>\n",
       "    </tr>\n",
       "    <tr>\n",
       "      <th>3</th>\n",
       "      <td>1.663134</td>\n",
       "      <td>-1.645380</td>\n",
       "      <td>-0.180557</td>\n",
       "      <td>0.161142</td>\n",
       "      <td>0.086857</td>\n",
       "      <td>-0.787772</td>\n",
       "      <td>0.062075</td>\n",
       "      <td>0.569335</td>\n",
       "    </tr>\n",
       "    <tr>\n",
       "      <th>4</th>\n",
       "      <td>0.940226</td>\n",
       "      <td>2.440655</td>\n",
       "      <td>-0.180557</td>\n",
       "      <td>1.688028</td>\n",
       "      <td>-2.221206</td>\n",
       "      <td>1.020331</td>\n",
       "      <td>0.947375</td>\n",
       "      <td>-0.967829</td>\n",
       "    </tr>\n",
       "    <tr>\n",
       "      <th>...</th>\n",
       "      <td>...</td>\n",
       "      <td>...</td>\n",
       "      <td>...</td>\n",
       "      <td>...</td>\n",
       "      <td>...</td>\n",
       "      <td>...</td>\n",
       "      <td>...</td>\n",
       "      <td>...</td>\n",
       "    </tr>\n",
       "    <tr>\n",
       "      <th>1452</th>\n",
       "      <td>-1.083915</td>\n",
       "      <td>0.015765</td>\n",
       "      <td>-0.180557</td>\n",
       "      <td>-0.638655</td>\n",
       "      <td>0.037749</td>\n",
       "      <td>1.020331</td>\n",
       "      <td>-0.406613</td>\n",
       "      <td>-0.647586</td>\n",
       "    </tr>\n",
       "    <tr>\n",
       "      <th>1453</th>\n",
       "      <td>-1.228496</td>\n",
       "      <td>-1.129852</td>\n",
       "      <td>-0.180557</td>\n",
       "      <td>0.960940</td>\n",
       "      <td>-0.355113</td>\n",
       "      <td>1.020331</td>\n",
       "      <td>0.009999</td>\n",
       "      <td>-0.743659</td>\n",
       "    </tr>\n",
       "    <tr>\n",
       "      <th>1454</th>\n",
       "      <td>-0.939333</td>\n",
       "      <td>0.302169</td>\n",
       "      <td>-0.180557</td>\n",
       "      <td>-0.420529</td>\n",
       "      <td>0.086857</td>\n",
       "      <td>1.020331</td>\n",
       "      <td>-1.552296</td>\n",
       "      <td>-0.871756</td>\n",
       "    </tr>\n",
       "    <tr>\n",
       "      <th>1455</th>\n",
       "      <td>1.373971</td>\n",
       "      <td>0.760416</td>\n",
       "      <td>-0.180557</td>\n",
       "      <td>0.888231</td>\n",
       "      <td>-0.747974</td>\n",
       "      <td>-0.017527</td>\n",
       "      <td>2.249287</td>\n",
       "      <td>0.441238</td>\n",
       "    </tr>\n",
       "    <tr>\n",
       "      <th>1456</th>\n",
       "      <td>0.795645</td>\n",
       "      <td>0.836791</td>\n",
       "      <td>-0.180557</td>\n",
       "      <td>0.451978</td>\n",
       "      <td>-0.256897</td>\n",
       "      <td>0.974013</td>\n",
       "      <td>0.374534</td>\n",
       "      <td>-0.615562</td>\n",
       "    </tr>\n",
       "  </tbody>\n",
       "</table>\n",
       "<p>1457 rows × 8 columns</p>\n",
       "</div>"
      ],
      "text/plain": [
       "          hour  hour_bef_temperature  hour_bef_precipitation  \\\n",
       "0     1.229389             -0.079703                5.538403   \n",
       "1     0.217319              0.645854               -0.180557   \n",
       "2    -0.794752             -0.537950               -0.180557   \n",
       "3     1.663134             -1.645380               -0.180557   \n",
       "4     0.940226              2.440655               -0.180557   \n",
       "...        ...                   ...                     ...   \n",
       "1452 -1.083915              0.015765               -0.180557   \n",
       "1453 -1.228496             -1.129852               -0.180557   \n",
       "1454 -0.939333              0.302169               -0.180557   \n",
       "1455  1.373971              0.760416               -0.180557   \n",
       "1456  0.795645              0.836791               -0.180557   \n",
       "\n",
       "      hour_bef_windspeed  hour_bef_humidity  hour_bef_visibility  \\\n",
       "0              -0.711364           1.805627            -1.422494   \n",
       "1              -0.784073          -0.207789            -0.839236   \n",
       "2              -1.293035           1.314550            -0.039828   \n",
       "3               0.161142           0.086857            -0.787772   \n",
       "4               1.688028          -2.221206             1.020331   \n",
       "...                  ...                ...                  ...   \n",
       "1452           -0.638655           0.037749             1.020331   \n",
       "1453            0.960940          -0.355113             1.020331   \n",
       "1454           -0.420529           0.086857             1.020331   \n",
       "1455            0.888231          -0.747974            -0.017527   \n",
       "1456            0.451978          -0.256897             0.974013   \n",
       "\n",
       "      hour_bef_ozone  hour_bef_pm10  \n",
       "0          -0.614919       0.601359  \n",
       "1           0.166228       0.505286  \n",
       "2          -0.302460      -0.807708  \n",
       "3           0.062075       0.569335  \n",
       "4           0.947375      -0.967829  \n",
       "...              ...            ...  \n",
       "1452       -0.406613      -0.647586  \n",
       "1453        0.009999      -0.743659  \n",
       "1454       -1.552296      -0.871756  \n",
       "1455        2.249287       0.441238  \n",
       "1456        0.374534      -0.615562  \n",
       "\n",
       "[1457 rows x 8 columns]"
      ]
     },
     "execution_count": 101,
     "metadata": {},
     "output_type": "execute_result"
    }
   ],
   "source": [
    "feature_data = pd.DataFrame(feature_fit, columns= feature_data.columns)\n",
    "feature_data"
   ]
  },
  {
   "cell_type": "code",
   "execution_count": 27,
   "metadata": {},
   "outputs": [
    {
     "name": "stdout",
     "output_type": "stream",
     "text": [
      "하한 이상치\n",
      "이상치 column_name: hour\n",
      "Series([], Name: hour, dtype: float64)\n",
      "상한 이상치\n",
      "이상치 column_name: hour\n",
      "Series([], Name: hour, dtype: float64)\n",
      "하한 이상치\n",
      "이상치 column_name: hour_bef_temperature\n",
      "Series([], Name: hour_bef_temperature, dtype: float64)\n",
      "상한 이상치\n",
      "이상치 column_name: hour_bef_temperature\n",
      "Series([], Name: hour_bef_temperature, dtype: float64)\n",
      "하한 이상치\n",
      "이상치 column_name: hour_bef_precipitation\n",
      "Series([], Name: hour_bef_precipitation, dtype: float64)\n",
      "상한 이상치\n",
      "이상치 column_name: hour_bef_precipitation\n",
      "0       5.538403\n",
      "15      5.538403\n",
      "17      5.538403\n",
      "19      5.538403\n",
      "48      5.538403\n",
      "59      5.538403\n",
      "130     5.538403\n",
      "154     5.538403\n",
      "169     5.538403\n",
      "222     5.538403\n",
      "299     5.538403\n",
      "306     5.538403\n",
      "309     5.538403\n",
      "323     5.538403\n",
      "333     5.538403\n",
      "344     5.538403\n",
      "363     5.538403\n",
      "380     5.538403\n",
      "387     5.538403\n",
      "436     5.538403\n",
      "495     5.538403\n",
      "507     5.538403\n",
      "539     5.538403\n",
      "583     5.538403\n",
      "590     5.538403\n",
      "605     5.538403\n",
      "636     5.538403\n",
      "692     5.538403\n",
      "713     5.538403\n",
      "718     5.538403\n",
      "765     5.538403\n",
      "796     5.538403\n",
      "798     5.538403\n",
      "814     5.538403\n",
      "842     5.538403\n",
      "911     5.538403\n",
      "983     5.538403\n",
      "1038    5.538403\n",
      "1107    5.538403\n",
      "1137    5.538403\n",
      "1229    5.538403\n",
      "1243    5.538403\n",
      "1270    5.538403\n",
      "1286    5.538403\n",
      "1411    5.538403\n",
      "1441    5.538403\n",
      "Name: hour_bef_precipitation, dtype: float64\n",
      "하한 이상치\n",
      "이상치 column_name: hour_bef_windspeed\n",
      "Series([], Name: hour_bef_windspeed, dtype: float64)\n",
      "상한 이상치\n",
      "이상치 column_name: hour_bef_windspeed\n",
      "141    3.578459\n",
      "314    3.505750\n",
      "325    3.651167\n",
      "369    3.796585\n",
      "380    4.014712\n",
      "831    3.360332\n",
      "Name: hour_bef_windspeed, dtype: float64\n",
      "하한 이상치\n",
      "이상치 column_name: hour_bef_humidity\n",
      "Series([], Name: hour_bef_humidity, dtype: float64)\n",
      "상한 이상치\n",
      "이상치 column_name: hour_bef_humidity\n",
      "Series([], Name: hour_bef_humidity, dtype: float64)\n",
      "하한 이상치\n",
      "이상치 column_name: hour_bef_visibility\n",
      "Series([], Name: hour_bef_visibility, dtype: float64)\n",
      "상한 이상치\n",
      "이상치 column_name: hour_bef_visibility\n",
      "Series([], Name: hour_bef_visibility, dtype: float64)\n",
      "하한 이상치\n",
      "이상치 column_name: hour_bef_ozone\n",
      "Series([], Name: hour_bef_ozone, dtype: float64)\n",
      "상한 이상치\n",
      "이상치 column_name: hour_bef_ozone\n",
      "292     3.499122\n",
      "1425    4.488575\n",
      "1428    3.811581\n",
      "Name: hour_bef_ozone, dtype: float64\n",
      "하한 이상치\n",
      "이상치 column_name: hour_bef_pm10\n",
      "Series([], Name: hour_bef_pm10, dtype: float64)\n",
      "상한 이상치\n",
      "이상치 column_name: hour_bef_pm10\n",
      "20      4.540340\n",
      "49      4.988680\n",
      "62      3.867831\n",
      "120     6.782037\n",
      "183     4.348195\n",
      "233     5.757261\n",
      "234     4.572364\n",
      "241     3.387468\n",
      "280     3.803783\n",
      "293     3.355443\n",
      "343     4.956655\n",
      "345     3.355443\n",
      "446     4.988680\n",
      "565     3.483540\n",
      "617     5.308922\n",
      "653     4.732486\n",
      "680     4.956655\n",
      "818     3.483540\n",
      "837     3.451516\n",
      "877     3.931880\n",
      "879     4.476292\n",
      "1059    5.372970\n",
      "1097    3.579613\n",
      "1224    4.316171\n",
      "1261    6.237625\n",
      "1277    4.476292\n",
      "1294    5.308922\n",
      "1377    5.212849\n",
      "1381    5.020704\n",
      "Name: hour_bef_pm10, dtype: float64\n",
      "하한 이상치\n",
      "이상치 column_name: hour_bef_pm2.5\n",
      "Series([], Name: hour_bef_pm2.5, dtype: float64)\n",
      "상한 이상치\n",
      "이상치 column_name: hour_bef_pm2.5\n",
      "13      3.696729\n",
      "428     4.041560\n",
      "511     4.110526\n",
      "574     3.351898\n",
      "678     3.765695\n",
      "711     3.489830\n",
      "899     3.627763\n",
      "1022    3.558797\n",
      "1090    3.627763\n",
      "1146    3.489830\n",
      "1153    4.041560\n",
      "1189    4.110526\n",
      "1240    3.351898\n",
      "1301    3.834661\n",
      "1319    3.834661\n",
      "Name: hour_bef_pm2.5, dtype: float64\n"
     ]
    }
   ],
   "source": [
    "#outlier 확인\n",
    "\n",
    "def check_outliers(df):\n",
    "    for column_name in df.columns:\n",
    "        upper_bound = 3.29  # 상한선  \n",
    "        lower_bound = -3.29  # 하한선\n",
    "        df1 = df[(df[column_name] <= lower_bound)] #하한 이상치\n",
    "        df2 = df[df[column_name] >= upper_bound]  # 상한 이상치 확인\n",
    "        print('하한 이상치')\n",
    "        print(f'이상치 column_name: {column_name}')\n",
    "        print(df1[column_name])\n",
    "        print('상한 이상치')\n",
    "        print(f'이상치 column_name: {column_name}')\n",
    "        print(df2[column_name])\n",
    "check_outliers(feature_data)"
   ]
  },
  {
   "attachments": {},
   "cell_type": "markdown",
   "metadata": {},
   "source": [
    "---\n",
    "### 이상치 제거 X 예측\n",
    "---"
   ]
  },
  {
   "cell_type": "code",
   "execution_count": 102,
   "metadata": {},
   "outputs": [],
   "source": [
    "# 데이터 내 train, test split 시간대에 따라 분류\n",
    "X_train, X_test, y_train, y_test = train_test_split(feature_data, target_data, test_size= 0.2, random_state=2,stratify=feature_data['hour'])"
   ]
  },
  {
   "cell_type": "code",
   "execution_count": 29,
   "metadata": {},
   "outputs": [],
   "source": [
    "#적합 모델 찾기\n",
    "#데이터\n",
    "def allest(data, label,X_test,y_test,choose_type):\n",
    "    rets = all_estimators(type_filter= choose_type)#분류 혹은 회귀\n",
    "    result=[]\n",
    "    for name, estimator_ in rets:\n",
    "        try:\n",
    "            model=estimator_()\n",
    "            model.fit(data, label)\n",
    "            # sc=model.score(data, label)\n",
    "            # result.append((name, round(sc, 2)))\n",
    "            pred = model.predict(X_test)\n",
    "            print(model)\n",
    "            print(model.get_params())\n",
    "            print(r2_score(y_test,pred))\n",
    "            print(mean_squared_error(y_test,pred))\n",
    "            result.append((name, round(r2_score(y_test,pred), 2),round(mean_squared_error(y_test,pred))))\n",
    "        except Exception:\n",
    "            pass\n",
    "\n",
    "    return result\n"
   ]
  },
  {
   "cell_type": "code",
   "execution_count": 30,
   "metadata": {},
   "outputs": [
    {
     "name": "stdout",
     "output_type": "stream",
     "text": [
      "ARDRegression()\n",
      "{'alpha_1': 1e-06, 'alpha_2': 1e-06, 'compute_score': False, 'copy_X': True, 'fit_intercept': True, 'lambda_1': 1e-06, 'lambda_2': 1e-06, 'n_iter': 300, 'threshold_lambda': 10000.0, 'tol': 0.001, 'verbose': False}\n",
      "0.6180607758068892\n",
      "2622.1214465099283\n",
      "AdaBoostRegressor()\n",
      "{'base_estimator': 'deprecated', 'estimator': None, 'learning_rate': 1.0, 'loss': 'linear', 'n_estimators': 50, 'random_state': None}\n",
      "0.6338326589316821\n",
      "2513.8429813150105\n",
      "BaggingRegressor()\n",
      "{'base_estimator': 'deprecated', 'bootstrap': True, 'bootstrap_features': False, 'estimator': None, 'max_features': 1.0, 'max_samples': 1.0, 'n_estimators': 10, 'n_jobs': None, 'oob_score': False, 'random_state': None, 'verbose': 0, 'warm_start': False}\n",
      "0.7409680536281145\n",
      "1778.3280136986302\n",
      "BayesianRidge()\n",
      "{'alpha_1': 1e-06, 'alpha_2': 1e-06, 'alpha_init': None, 'compute_score': False, 'copy_X': True, 'fit_intercept': True, 'lambda_1': 1e-06, 'lambda_2': 1e-06, 'lambda_init': None, 'n_iter': 300, 'tol': 0.001, 'verbose': False}\n",
      "0.618889545756786\n",
      "2616.431704995586\n",
      "DecisionTreeRegressor()\n",
      "{'ccp_alpha': 0.0, 'criterion': 'squared_error', 'max_depth': None, 'max_features': None, 'max_leaf_nodes': None, 'min_impurity_decrease': 0.0, 'min_samples_leaf': 1, 'min_samples_split': 2, 'min_weight_fraction_leaf': 0.0, 'random_state': None, 'splitter': 'best'}\n",
      "0.5541500175566686\n",
      "3060.8869863013697\n",
      "DummyRegressor()\n",
      "{'constant': None, 'quantile': None, 'strategy': 'mean'}\n",
      "-6.669554276550471e-05\n",
      "6865.742411931881\n",
      "ElasticNet()\n",
      "{'alpha': 1.0, 'copy_X': True, 'fit_intercept': True, 'l1_ratio': 0.5, 'max_iter': 1000, 'positive': False, 'precompute': False, 'random_state': None, 'selection': 'cyclic', 'tol': 0.0001, 'warm_start': False}\n",
      "0.597213170668029\n",
      "2765.246187516725\n",
      "ElasticNetCV()\n",
      "{'alphas': None, 'copy_X': True, 'cv': None, 'eps': 0.001, 'fit_intercept': True, 'l1_ratio': 0.5, 'max_iter': 1000, 'n_alphas': 100, 'n_jobs': None, 'positive': False, 'precompute': 'auto', 'random_state': None, 'selection': 'cyclic', 'tol': 0.0001, 'verbose': 0}\n",
      "0.6198779021574938\n",
      "2609.646357089603\n",
      "ExtraTreeRegressor()\n",
      "{'ccp_alpha': 0.0, 'criterion': 'squared_error', 'max_depth': None, 'max_features': 1.0, 'max_leaf_nodes': None, 'min_impurity_decrease': 0.0, 'min_samples_leaf': 1, 'min_samples_split': 2, 'min_weight_fraction_leaf': 0.0, 'random_state': None, 'splitter': 'random'}\n",
      "0.6097882946271742\n",
      "2678.9143835616437\n",
      "ExtraTreesRegressor()\n",
      "{'bootstrap': False, 'ccp_alpha': 0.0, 'criterion': 'squared_error', 'max_depth': None, 'max_features': 1.0, 'max_leaf_nodes': None, 'max_samples': None, 'min_impurity_decrease': 0.0, 'min_samples_leaf': 1, 'min_samples_split': 2, 'min_weight_fraction_leaf': 0.0, 'n_estimators': 100, 'n_jobs': None, 'oob_score': False, 'random_state': None, 'verbose': 0, 'warm_start': False}\n",
      "0.7979514790300054\n",
      "1387.1205849315068\n",
      "GammaRegressor()\n",
      "{'alpha': 1.0, 'fit_intercept': True, 'max_iter': 100, 'solver': 'lbfgs', 'tol': 0.0001, 'verbose': 0, 'warm_start': False}\n",
      "0.5614936887248108\n",
      "3010.4705942516075\n",
      "GaussianProcessRegressor()\n",
      "{'alpha': 1e-10, 'copy_X_train': True, 'kernel': None, 'n_restarts_optimizer': 0, 'normalize_y': False, 'optimizer': 'fmin_l_bfgs_b', 'random_state': None}\n",
      "0.4892062148154521\n",
      "3506.744670453637\n",
      "GradientBoostingRegressor()\n",
      "{'alpha': 0.9, 'ccp_alpha': 0.0, 'criterion': 'friedman_mse', 'init': None, 'learning_rate': 0.1, 'loss': 'squared_error', 'max_depth': 3, 'max_features': None, 'max_leaf_nodes': None, 'min_impurity_decrease': 0.0, 'min_samples_leaf': 1, 'min_samples_split': 2, 'min_weight_fraction_leaf': 0.0, 'n_estimators': 100, 'n_iter_no_change': None, 'random_state': None, 'subsample': 1.0, 'tol': 0.0001, 'validation_fraction': 0.1, 'verbose': 0, 'warm_start': False}\n",
      "0.7694712230837711\n",
      "1582.6456454342083\n",
      "HistGradientBoostingRegressor()\n",
      "{'categorical_features': None, 'early_stopping': 'auto', 'interaction_cst': None, 'l2_regularization': 0.0, 'learning_rate': 0.1, 'loss': 'squared_error', 'max_bins': 255, 'max_depth': None, 'max_iter': 100, 'max_leaf_nodes': 31, 'min_samples_leaf': 20, 'monotonic_cst': None, 'n_iter_no_change': 10, 'quantile': None, 'random_state': None, 'scoring': 'loss', 'tol': 1e-07, 'validation_fraction': 0.1, 'verbose': 0, 'warm_start': False}\n",
      "0.7603465169456969\n",
      "1645.289349306969\n",
      "HuberRegressor()\n",
      "{'alpha': 0.0001, 'epsilon': 1.35, 'fit_intercept': True, 'max_iter': 100, 'tol': 1e-05, 'warm_start': False}\n",
      "0.6016879925781358\n",
      "2734.5252618914715\n",
      "KNeighborsRegressor()\n",
      "{'algorithm': 'auto', 'leaf_size': 30, 'metric': 'minkowski', 'metric_params': None, 'n_jobs': None, 'n_neighbors': 5, 'p': 2, 'weights': 'uniform'}\n",
      "0.7090493833196649\n",
      "1997.4587671232875\n",
      "KernelRidge()\n",
      "{'alpha': 1, 'coef0': 1, 'degree': 3, 'gamma': None, 'kernel': 'linear', 'kernel_params': None}\n",
      "-1.1622925059384328\n",
      "14844.75328614633\n",
      "Lars()\n",
      "{'copy_X': True, 'eps': 2.220446049250313e-16, 'fit_intercept': True, 'fit_path': True, 'jitter': None, 'n_nonzero_coefs': 500, 'normalize': 'deprecated', 'precompute': 'auto', 'random_state': None, 'verbose': False}\n",
      "0.6184287843062937\n",
      "2619.5949634527747\n",
      "LarsCV()\n",
      "{'copy_X': True, 'cv': None, 'eps': 2.220446049250313e-16, 'fit_intercept': True, 'max_iter': 500, 'max_n_alphas': 1000, 'n_jobs': None, 'normalize': 'deprecated', 'precompute': 'auto', 'verbose': False}\n",
      "0.6183155425920452\n",
      "2620.372400041535\n",
      "Lasso()\n",
      "{'alpha': 1.0, 'copy_X': True, 'fit_intercept': True, 'max_iter': 1000, 'positive': False, 'precompute': False, 'random_state': None, 'selection': 'cyclic', 'tol': 0.0001, 'warm_start': False}\n",
      "0.6185495953868239\n",
      "2618.765561010793\n",
      "LassoCV()\n",
      "{'alphas': None, 'copy_X': True, 'cv': None, 'eps': 0.001, 'fit_intercept': True, 'max_iter': 1000, 'n_alphas': 100, 'n_jobs': None, 'positive': False, 'precompute': 'auto', 'random_state': None, 'selection': 'cyclic', 'tol': 0.0001, 'verbose': False}\n",
      "0.6183170309543509\n",
      "2620.362182010825\n",
      "LassoLars()\n",
      "{'alpha': 1.0, 'copy_X': True, 'eps': 2.220446049250313e-16, 'fit_intercept': True, 'fit_path': True, 'jitter': None, 'max_iter': 500, 'normalize': 'deprecated', 'positive': False, 'precompute': 'auto', 'random_state': None, 'verbose': False}\n",
      "0.618549730055173\n",
      "2618.764636474259\n",
      "LassoLarsCV()\n",
      "{'copy_X': True, 'cv': None, 'eps': 2.220446049250313e-16, 'fit_intercept': True, 'max_iter': 500, 'max_n_alphas': 1000, 'n_jobs': None, 'normalize': 'deprecated', 'positive': False, 'precompute': 'auto', 'verbose': False}\n",
      "0.6183155425920452\n",
      "2620.372400041535\n",
      "LassoLarsIC()\n",
      "{'copy_X': True, 'criterion': 'aic', 'eps': 2.220446049250313e-16, 'fit_intercept': True, 'max_iter': 500, 'noise_variance': None, 'normalize': 'deprecated', 'positive': False, 'precompute': 'auto', 'verbose': False}\n",
      "0.6180137066847664\n",
      "2622.444589425787\n",
      "LinearRegression()\n",
      "{'copy_X': True, 'fit_intercept': True, 'n_jobs': None, 'positive': False}\n",
      "0.6184287843062937\n",
      "2619.5949634527747\n",
      "LinearSVR()\n",
      "{'C': 1.0, 'dual': True, 'epsilon': 0.0, 'fit_intercept': True, 'intercept_scaling': 1.0, 'loss': 'epsilon_insensitive', 'max_iter': 1000, 'random_state': None, 'tol': 0.0001, 'verbose': 0}\n",
      "0.5558995059063376\n",
      "3048.8762510023766\n",
      "MLPRegressor()\n",
      "{'activation': 'relu', 'alpha': 0.0001, 'batch_size': 'auto', 'beta_1': 0.9, 'beta_2': 0.999, 'early_stopping': False, 'epsilon': 1e-08, 'hidden_layer_sizes': (100,), 'learning_rate': 'constant', 'learning_rate_init': 0.001, 'max_fun': 15000, 'max_iter': 200, 'momentum': 0.9, 'n_iter_no_change': 10, 'nesterovs_momentum': True, 'power_t': 0.5, 'random_state': None, 'shuffle': True, 'solver': 'adam', 'tol': 0.0001, 'validation_fraction': 0.1, 'verbose': False, 'warm_start': False}\n",
      "0.6271602913387526\n",
      "2559.650683316239\n",
      "NuSVR()\n",
      "{'C': 1.0, 'cache_size': 200, 'coef0': 0.0, 'degree': 3, 'gamma': 'scale', 'kernel': 'rbf', 'max_iter': -1, 'nu': 0.5, 'shrinking': True, 'tol': 0.001, 'verbose': False}\n",
      "0.46613984415799803\n",
      "3665.101868046617\n",
      "OrthogonalMatchingPursuit()\n",
      "{'fit_intercept': True, 'n_nonzero_coefs': None, 'normalize': 'deprecated', 'precompute': 'auto', 'tol': None}\n",
      "0.41374638600443125\n",
      "4024.797865679546\n",
      "OrthogonalMatchingPursuitCV()\n",
      "{'copy': True, 'cv': None, 'fit_intercept': True, 'max_iter': None, 'n_jobs': None, 'normalize': 'deprecated', 'verbose': False}\n",
      "0.6010537736673567\n",
      "2738.879355167043\n",
      "PLSRegression()\n",
      "{'copy': True, 'max_iter': 500, 'n_components': 2, 'scale': True, 'tol': 1e-06}\n",
      "0.6339839873070092\n",
      "2512.804068961222\n",
      "PassiveAggressiveRegressor()\n",
      "{'C': 1.0, 'average': False, 'early_stopping': False, 'epsilon': 0.1, 'fit_intercept': True, 'loss': 'epsilon_insensitive', 'max_iter': 1000, 'n_iter_no_change': 5, 'random_state': None, 'shuffle': True, 'tol': 0.001, 'validation_fraction': 0.1, 'verbose': 0, 'warm_start': False}\n",
      "0.567345603321709\n",
      "2970.295535510028\n",
      "PoissonRegressor()\n",
      "{'alpha': 1.0, 'fit_intercept': True, 'max_iter': 100, 'solver': 'lbfgs', 'tol': 0.0001, 'verbose': 0, 'warm_start': False}\n",
      "0.6482129552085873\n",
      "2415.1181557763402\n",
      "QuantileRegressor()\n",
      "{'alpha': 1.0, 'fit_intercept': True, 'quantile': 0.5, 'solver': 'warn', 'solver_options': None}\n",
      "-0.0217726949761452\n",
      "7014.760274007814\n",
      "RANSACRegressor()\n",
      "{'base_estimator': 'deprecated', 'estimator': None, 'is_data_valid': None, 'is_model_valid': None, 'loss': 'absolute_error', 'max_skips': inf, 'max_trials': 100, 'min_samples': None, 'random_state': None, 'residual_threshold': None, 'stop_n_inliers': inf, 'stop_probability': 0.99, 'stop_score': inf}\n",
      "0.5378180289238228\n",
      "3173.010735174801\n",
      "RadiusNeighborsRegressor()\n",
      "{'algorithm': 'auto', 'leaf_size': 30, 'metric': 'minkowski', 'metric_params': None, 'n_jobs': None, 'p': 2, 'radius': 1.0, 'weights': 'uniform'}\n",
      "RandomForestRegressor()\n",
      "{'bootstrap': True, 'ccp_alpha': 0.0, 'criterion': 'squared_error', 'max_depth': None, 'max_features': 1.0, 'max_leaf_nodes': None, 'max_samples': None, 'min_impurity_decrease': 0.0, 'min_samples_leaf': 1, 'min_samples_split': 2, 'min_weight_fraction_leaf': 0.0, 'n_estimators': 100, 'n_jobs': None, 'oob_score': False, 'random_state': None, 'verbose': 0, 'warm_start': False}\n",
      "0.7742423328786059\n",
      "1549.890619178082\n",
      "Ridge()\n",
      "{'alpha': 1.0, 'copy_X': True, 'fit_intercept': True, 'max_iter': None, 'positive': False, 'random_state': None, 'solver': 'auto', 'tol': 0.0001}\n",
      "0.6184727762197306\n",
      "2619.2929464500967\n",
      "RidgeCV()\n",
      "{'alpha_per_target': False, 'alphas': (0.1, 1.0, 10.0), 'cv': None, 'fit_intercept': True, 'gcv_mode': None, 'scoring': None, 'store_cv_values': False}\n",
      "0.6188401881148524\n",
      "2616.770559251094\n",
      "SGDRegressor()\n",
      "{'alpha': 0.0001, 'average': False, 'early_stopping': False, 'epsilon': 0.1, 'eta0': 0.01, 'fit_intercept': True, 'l1_ratio': 0.15, 'learning_rate': 'invscaling', 'loss': 'squared_error', 'max_iter': 1000, 'n_iter_no_change': 5, 'penalty': 'l2', 'power_t': 0.25, 'random_state': None, 'shuffle': True, 'tol': 0.001, 'validation_fraction': 0.1, 'verbose': 0, 'warm_start': False}\n",
      "0.6192297151043213\n",
      "2614.0963456370328\n",
      "SVR()\n",
      "{'C': 1.0, 'cache_size': 200, 'coef0': 0.0, 'degree': 3, 'epsilon': 0.1, 'gamma': 'scale', 'kernel': 'rbf', 'max_iter': -1, 'shrinking': True, 'tol': 0.001, 'verbose': False}\n",
      "0.47220945134774495\n",
      "3623.4322877154814\n",
      "TheilSenRegressor()\n",
      "{'copy_X': True, 'fit_intercept': True, 'max_iter': 300, 'max_subpopulation': 10000.0, 'n_jobs': None, 'n_subsamples': None, 'random_state': None, 'tol': 0.001, 'verbose': False}\n",
      "0.592179437744574\n",
      "2799.8041962744765\n",
      "TransformedTargetRegressor()\n",
      "{'check_inverse': True, 'func': None, 'inverse_func': None, 'regressor': None, 'transformer': None}\n",
      "0.6184287843062937\n",
      "2619.5949634527747\n",
      "TweedieRegressor()\n",
      "{'alpha': 1.0, 'fit_intercept': True, 'link': 'auto', 'max_iter': 100, 'power': 0.0, 'solver': 'lbfgs', 'tol': 0.0001, 'verbose': 0, 'warm_start': False}\n",
      "0.5603249467979012\n",
      "3018.494340119707\n"
     ]
    }
   ],
   "source": [
    "result = allest(X_train, y_train,X_test,y_test,'regressor')"
   ]
  },
  {
   "cell_type": "code",
   "execution_count": 31,
   "metadata": {},
   "outputs": [
    {
     "data": {
      "text/plain": [
       "[('ARDRegression', 0.62, 2622),\n",
       " ('AdaBoostRegressor', 0.63, 2514),\n",
       " ('BaggingRegressor', 0.74, 1778),\n",
       " ('BayesianRidge', 0.62, 2616),\n",
       " ('DecisionTreeRegressor', 0.55, 3061),\n",
       " ('DummyRegressor', -0.0, 6866),\n",
       " ('ElasticNet', 0.6, 2765),\n",
       " ('ElasticNetCV', 0.62, 2610),\n",
       " ('ExtraTreeRegressor', 0.61, 2679),\n",
       " ('ExtraTreesRegressor', 0.8, 1387),\n",
       " ('GammaRegressor', 0.56, 3010),\n",
       " ('GaussianProcessRegressor', 0.49, 3507),\n",
       " ('GradientBoostingRegressor', 0.77, 1583),\n",
       " ('HistGradientBoostingRegressor', 0.76, 1645),\n",
       " ('HuberRegressor', 0.6, 2735),\n",
       " ('KNeighborsRegressor', 0.71, 1997),\n",
       " ('KernelRidge', -1.16, 14845),\n",
       " ('Lars', 0.62, 2620),\n",
       " ('LarsCV', 0.62, 2620),\n",
       " ('Lasso', 0.62, 2619),\n",
       " ('LassoCV', 0.62, 2620),\n",
       " ('LassoLars', 0.62, 2619),\n",
       " ('LassoLarsCV', 0.62, 2620),\n",
       " ('LassoLarsIC', 0.62, 2622),\n",
       " ('LinearRegression', 0.62, 2620),\n",
       " ('LinearSVR', 0.56, 3049),\n",
       " ('MLPRegressor', 0.63, 2560),\n",
       " ('NuSVR', 0.47, 3665),\n",
       " ('OrthogonalMatchingPursuit', 0.41, 4025),\n",
       " ('OrthogonalMatchingPursuitCV', 0.6, 2739),\n",
       " ('PLSRegression', 0.63, 2513),\n",
       " ('PassiveAggressiveRegressor', 0.57, 2970),\n",
       " ('PoissonRegressor', 0.65, 2415),\n",
       " ('QuantileRegressor', -0.02, 7015),\n",
       " ('RANSACRegressor', 0.54, 3173),\n",
       " ('RandomForestRegressor', 0.77, 1550),\n",
       " ('Ridge', 0.62, 2619),\n",
       " ('RidgeCV', 0.62, 2617),\n",
       " ('SGDRegressor', 0.62, 2614),\n",
       " ('SVR', 0.47, 3623),\n",
       " ('TheilSenRegressor', 0.59, 2800),\n",
       " ('TransformedTargetRegressor', 0.62, 2620),\n",
       " ('TweedieRegressor', 0.56, 3018)]"
      ]
     },
     "execution_count": 31,
     "metadata": {},
     "output_type": "execute_result"
    }
   ],
   "source": [
    "result"
   ]
  },
  {
   "cell_type": "code",
   "execution_count": 32,
   "metadata": {},
   "outputs": [
    {
     "data": {
      "text/plain": [
       "[('ExtraTreesRegressor', 0.8, 1387),\n",
       " ('GradientBoostingRegressor', 0.77, 1583),\n",
       " ('RandomForestRegressor', 0.77, 1550),\n",
       " ('HistGradientBoostingRegressor', 0.76, 1645),\n",
       " ('BaggingRegressor', 0.74, 1778),\n",
       " ('KNeighborsRegressor', 0.71, 1997),\n",
       " ('PoissonRegressor', 0.65, 2415),\n",
       " ('AdaBoostRegressor', 0.63, 2514),\n",
       " ('MLPRegressor', 0.63, 2560),\n",
       " ('PLSRegression', 0.63, 2513),\n",
       " ('ARDRegression', 0.62, 2622),\n",
       " ('BayesianRidge', 0.62, 2616),\n",
       " ('ElasticNetCV', 0.62, 2610),\n",
       " ('Lars', 0.62, 2620),\n",
       " ('LarsCV', 0.62, 2620),\n",
       " ('Lasso', 0.62, 2619),\n",
       " ('LassoCV', 0.62, 2620),\n",
       " ('LassoLars', 0.62, 2619),\n",
       " ('LassoLarsCV', 0.62, 2620),\n",
       " ('LassoLarsIC', 0.62, 2622),\n",
       " ('LinearRegression', 0.62, 2620),\n",
       " ('Ridge', 0.62, 2619),\n",
       " ('RidgeCV', 0.62, 2617),\n",
       " ('SGDRegressor', 0.62, 2614),\n",
       " ('TransformedTargetRegressor', 0.62, 2620),\n",
       " ('ExtraTreeRegressor', 0.61, 2679),\n",
       " ('ElasticNet', 0.6, 2765),\n",
       " ('HuberRegressor', 0.6, 2735),\n",
       " ('OrthogonalMatchingPursuitCV', 0.6, 2739),\n",
       " ('TheilSenRegressor', 0.59, 2800),\n",
       " ('PassiveAggressiveRegressor', 0.57, 2970),\n",
       " ('GammaRegressor', 0.56, 3010),\n",
       " ('LinearSVR', 0.56, 3049),\n",
       " ('TweedieRegressor', 0.56, 3018),\n",
       " ('DecisionTreeRegressor', 0.55, 3061),\n",
       " ('RANSACRegressor', 0.54, 3173),\n",
       " ('GaussianProcessRegressor', 0.49, 3507),\n",
       " ('NuSVR', 0.47, 3665),\n",
       " ('SVR', 0.47, 3623),\n",
       " ('OrthogonalMatchingPursuit', 0.41, 4025),\n",
       " ('DummyRegressor', -0.0, 6866),\n",
       " ('QuantileRegressor', -0.02, 7015),\n",
       " ('KernelRidge', -1.16, 14845)]"
      ]
     },
     "execution_count": 32,
     "metadata": {},
     "output_type": "execute_result"
    }
   ],
   "source": [
    "sorted(result, key=lambda x : x[1], reverse=True)"
   ]
  },
  {
   "cell_type": "code",
   "execution_count": 103,
   "metadata": {},
   "outputs": [
    {
     "data": {
      "text/html": [
       "<style>#sk-container-id-5 {color: black;background-color: white;}#sk-container-id-5 pre{padding: 0;}#sk-container-id-5 div.sk-toggleable {background-color: white;}#sk-container-id-5 label.sk-toggleable__label {cursor: pointer;display: block;width: 100%;margin-bottom: 0;padding: 0.3em;box-sizing: border-box;text-align: center;}#sk-container-id-5 label.sk-toggleable__label-arrow:before {content: \"▸\";float: left;margin-right: 0.25em;color: #696969;}#sk-container-id-5 label.sk-toggleable__label-arrow:hover:before {color: black;}#sk-container-id-5 div.sk-estimator:hover label.sk-toggleable__label-arrow:before {color: black;}#sk-container-id-5 div.sk-toggleable__content {max-height: 0;max-width: 0;overflow: hidden;text-align: left;background-color: #f0f8ff;}#sk-container-id-5 div.sk-toggleable__content pre {margin: 0.2em;color: black;border-radius: 0.25em;background-color: #f0f8ff;}#sk-container-id-5 input.sk-toggleable__control:checked~div.sk-toggleable__content {max-height: 200px;max-width: 100%;overflow: auto;}#sk-container-id-5 input.sk-toggleable__control:checked~label.sk-toggleable__label-arrow:before {content: \"▾\";}#sk-container-id-5 div.sk-estimator input.sk-toggleable__control:checked~label.sk-toggleable__label {background-color: #d4ebff;}#sk-container-id-5 div.sk-label input.sk-toggleable__control:checked~label.sk-toggleable__label {background-color: #d4ebff;}#sk-container-id-5 input.sk-hidden--visually {border: 0;clip: rect(1px 1px 1px 1px);clip: rect(1px, 1px, 1px, 1px);height: 1px;margin: -1px;overflow: hidden;padding: 0;position: absolute;width: 1px;}#sk-container-id-5 div.sk-estimator {font-family: monospace;background-color: #f0f8ff;border: 1px dotted black;border-radius: 0.25em;box-sizing: border-box;margin-bottom: 0.5em;}#sk-container-id-5 div.sk-estimator:hover {background-color: #d4ebff;}#sk-container-id-5 div.sk-parallel-item::after {content: \"\";width: 100%;border-bottom: 1px solid gray;flex-grow: 1;}#sk-container-id-5 div.sk-label:hover label.sk-toggleable__label {background-color: #d4ebff;}#sk-container-id-5 div.sk-serial::before {content: \"\";position: absolute;border-left: 1px solid gray;box-sizing: border-box;top: 0;bottom: 0;left: 50%;z-index: 0;}#sk-container-id-5 div.sk-serial {display: flex;flex-direction: column;align-items: center;background-color: white;padding-right: 0.2em;padding-left: 0.2em;position: relative;}#sk-container-id-5 div.sk-item {position: relative;z-index: 1;}#sk-container-id-5 div.sk-parallel {display: flex;align-items: stretch;justify-content: center;background-color: white;position: relative;}#sk-container-id-5 div.sk-item::before, #sk-container-id-5 div.sk-parallel-item::before {content: \"\";position: absolute;border-left: 1px solid gray;box-sizing: border-box;top: 0;bottom: 0;left: 50%;z-index: -1;}#sk-container-id-5 div.sk-parallel-item {display: flex;flex-direction: column;z-index: 1;position: relative;background-color: white;}#sk-container-id-5 div.sk-parallel-item:first-child::after {align-self: flex-end;width: 50%;}#sk-container-id-5 div.sk-parallel-item:last-child::after {align-self: flex-start;width: 50%;}#sk-container-id-5 div.sk-parallel-item:only-child::after {width: 0;}#sk-container-id-5 div.sk-dashed-wrapped {border: 1px dashed gray;margin: 0 0.4em 0.5em 0.4em;box-sizing: border-box;padding-bottom: 0.4em;background-color: white;}#sk-container-id-5 div.sk-label label {font-family: monospace;font-weight: bold;display: inline-block;line-height: 1.2em;}#sk-container-id-5 div.sk-label-container {text-align: center;}#sk-container-id-5 div.sk-container {/* jupyter's `normalize.less` sets `[hidden] { display: none; }` but bootstrap.min.css set `[hidden] { display: none !important; }` so we also need the `!important` here to be able to override the default hidden behavior on the sphinx rendered scikit-learn.org. See: https://github.com/scikit-learn/scikit-learn/issues/21755 */display: inline-block !important;position: relative;}#sk-container-id-5 div.sk-text-repr-fallback {display: none;}</style><div id=\"sk-container-id-5\" class=\"sk-top-container\"><div class=\"sk-text-repr-fallback\"><pre>GridSearchCV(cv=5, estimator=DecisionTreeRegressor(),\n",
       "             param_grid={&#x27;max_depth&#x27;: [None, 3, 4, 5, 7, 10],\n",
       "                         &#x27;min_samples_leaf&#x27;: [1, 2, 3, 4, 5, 6, 7, 8, 9],\n",
       "                         &#x27;min_samples_split&#x27;: [2, 3, 4, 5, 10, 15]})</pre><b>In a Jupyter environment, please rerun this cell to show the HTML representation or trust the notebook. <br />On GitHub, the HTML representation is unable to render, please try loading this page with nbviewer.org.</b></div><div class=\"sk-container\" hidden><div class=\"sk-item sk-dashed-wrapped\"><div class=\"sk-label-container\"><div class=\"sk-label sk-toggleable\"><input class=\"sk-toggleable__control sk-hidden--visually\" id=\"sk-estimator-id-11\" type=\"checkbox\" ><label for=\"sk-estimator-id-11\" class=\"sk-toggleable__label sk-toggleable__label-arrow\">GridSearchCV</label><div class=\"sk-toggleable__content\"><pre>GridSearchCV(cv=5, estimator=DecisionTreeRegressor(),\n",
       "             param_grid={&#x27;max_depth&#x27;: [None, 3, 4, 5, 7, 10],\n",
       "                         &#x27;min_samples_leaf&#x27;: [1, 2, 3, 4, 5, 6, 7, 8, 9],\n",
       "                         &#x27;min_samples_split&#x27;: [2, 3, 4, 5, 10, 15]})</pre></div></div></div><div class=\"sk-parallel\"><div class=\"sk-parallel-item\"><div class=\"sk-item\"><div class=\"sk-label-container\"><div class=\"sk-label sk-toggleable\"><input class=\"sk-toggleable__control sk-hidden--visually\" id=\"sk-estimator-id-12\" type=\"checkbox\" ><label for=\"sk-estimator-id-12\" class=\"sk-toggleable__label sk-toggleable__label-arrow\">estimator: DecisionTreeRegressor</label><div class=\"sk-toggleable__content\"><pre>DecisionTreeRegressor()</pre></div></div></div><div class=\"sk-serial\"><div class=\"sk-item\"><div class=\"sk-estimator sk-toggleable\"><input class=\"sk-toggleable__control sk-hidden--visually\" id=\"sk-estimator-id-13\" type=\"checkbox\" ><label for=\"sk-estimator-id-13\" class=\"sk-toggleable__label sk-toggleable__label-arrow\">DecisionTreeRegressor</label><div class=\"sk-toggleable__content\"><pre>DecisionTreeRegressor()</pre></div></div></div></div></div></div></div></div></div></div>"
      ],
      "text/plain": [
       "GridSearchCV(cv=5, estimator=DecisionTreeRegressor(),\n",
       "             param_grid={'max_depth': [None, 3, 4, 5, 7, 10],\n",
       "                         'min_samples_leaf': [1, 2, 3, 4, 5, 6, 7, 8, 9],\n",
       "                         'min_samples_split': [2, 3, 4, 5, 10, 15]})"
      ]
     },
     "execution_count": 103,
     "metadata": {},
     "output_type": "execute_result"
    }
   ],
   "source": [
    "#GridsearchCV를 활용한 DecisionTreeRegressor\n",
    "param = {'max_depth':[None,3,4,5,7,10], 'min_samples_split':[2,3,4,5,10,15], 'min_samples_leaf':[i for i in range(1,10)]}\n",
    "DTR = DecisionTreeRegressor()\n",
    "DTR.fit(X_train,y_train)\n",
    "GrDTR = GridSearchCV(DTR,param_grid=param, cv = 5,refit=True)\n",
    "GrDTR.fit(X_train,y_train)"
   ]
  },
  {
   "cell_type": "code",
   "execution_count": 104,
   "metadata": {},
   "outputs": [
    {
     "name": "stdout",
     "output_type": "stream",
     "text": [
      "0.5617948089422978\n",
      "2499.4202414914\n"
     ]
    }
   ],
   "source": [
    "\n",
    "best_model = GrDTR.best_estimator_\n",
    "y_pred = best_model.predict(X_test)\n",
    "print(r2_score(y_pred,y_test))\n",
    "print(mean_squared_error(y_pred,y_test))"
   ]
  },
  {
   "cell_type": "code",
   "execution_count": 87,
   "metadata": {},
   "outputs": [
    {
     "data": {
      "text/plain": [
       "1.0"
      ]
     },
     "execution_count": 87,
     "metadata": {},
     "output_type": "execute_result"
    }
   ],
   "source": [
    "DTR.score(X_train,y_train)"
   ]
  },
  {
   "cell_type": "code",
   "execution_count": 36,
   "metadata": {},
   "outputs": [
    {
     "data": {
      "text/plain": [
       "0.544631709882175"
      ]
     },
     "execution_count": 36,
     "metadata": {},
     "output_type": "execute_result"
    }
   ],
   "source": [
    "DTR.score(X_test,y_test)\n",
    "#과적합 문제 발생"
   ]
  },
  {
   "cell_type": "code",
   "execution_count": 105,
   "metadata": {},
   "outputs": [
    {
     "name": "stdout",
     "output_type": "stream",
     "text": [
      "r2_score :0.71\n",
      "rmse: 40.32\n"
     ]
    }
   ],
   "source": [
    "rfr = RandomForestRegressor()\n",
    "rfr.fit(X_train,y_train)\n",
    "pred = rfr.predict(X_test)\n",
    "print(f'r2_score :{round(r2_score(pred, y_test),2)}')\n",
    "print(f'rmse: {round(np.sqrt(mean_squared_error(pred, y_test)),2)}')\n"
   ]
  },
  {
   "cell_type": "code",
   "execution_count": 91,
   "metadata": {},
   "outputs": [
    {
     "name": "stdout",
     "output_type": "stream",
     "text": [
      "r2_score :0.55\n",
      "rmse: 55.63\n"
     ]
    }
   ],
   "source": [
    "etr = ExtraTreeRegressor()\n",
    "etr.fit(X_train,y_train)\n",
    "pred = etr.predict(X_test)\n",
    "print(f'r2_score :{round(r2_score(pred, y_test),2)}')\n",
    "print(f'rmse: {round(np.sqrt(mean_squared_error(pred, y_test)),2)}')"
   ]
  },
  {
   "attachments": {},
   "cell_type": "markdown",
   "metadata": {},
   "source": [
    "#### 앙상블의 ExtraTreesRegressor()"
   ]
  },
  {
   "cell_type": "code",
   "execution_count": 89,
   "metadata": {},
   "outputs": [
    {
     "name": "stdout",
     "output_type": "stream",
     "text": [
      "r2_score :-34.013\n",
      "rmse: 131.084\n"
     ]
    }
   ],
   "source": [
    "etsr = ExtraTreesRegressor()\n",
    "etsr.fit(X_train,y_train)\n",
    "pred = etr.predict(X_test)\n",
    "print(f'r2_score :{round(r2_score(pred, y_test),3)}')\n",
    "print(f'rmse: {round(np.sqrt(mean_squared_error(pred, y_test)),3)}')"
   ]
  },
  {
   "cell_type": "code",
   "execution_count": 50,
   "metadata": {},
   "outputs": [
    {
     "data": {
      "text/html": [
       "<style>#sk-container-id-2 {color: black;background-color: white;}#sk-container-id-2 pre{padding: 0;}#sk-container-id-2 div.sk-toggleable {background-color: white;}#sk-container-id-2 label.sk-toggleable__label {cursor: pointer;display: block;width: 100%;margin-bottom: 0;padding: 0.3em;box-sizing: border-box;text-align: center;}#sk-container-id-2 label.sk-toggleable__label-arrow:before {content: \"▸\";float: left;margin-right: 0.25em;color: #696969;}#sk-container-id-2 label.sk-toggleable__label-arrow:hover:before {color: black;}#sk-container-id-2 div.sk-estimator:hover label.sk-toggleable__label-arrow:before {color: black;}#sk-container-id-2 div.sk-toggleable__content {max-height: 0;max-width: 0;overflow: hidden;text-align: left;background-color: #f0f8ff;}#sk-container-id-2 div.sk-toggleable__content pre {margin: 0.2em;color: black;border-radius: 0.25em;background-color: #f0f8ff;}#sk-container-id-2 input.sk-toggleable__control:checked~div.sk-toggleable__content {max-height: 200px;max-width: 100%;overflow: auto;}#sk-container-id-2 input.sk-toggleable__control:checked~label.sk-toggleable__label-arrow:before {content: \"▾\";}#sk-container-id-2 div.sk-estimator input.sk-toggleable__control:checked~label.sk-toggleable__label {background-color: #d4ebff;}#sk-container-id-2 div.sk-label input.sk-toggleable__control:checked~label.sk-toggleable__label {background-color: #d4ebff;}#sk-container-id-2 input.sk-hidden--visually {border: 0;clip: rect(1px 1px 1px 1px);clip: rect(1px, 1px, 1px, 1px);height: 1px;margin: -1px;overflow: hidden;padding: 0;position: absolute;width: 1px;}#sk-container-id-2 div.sk-estimator {font-family: monospace;background-color: #f0f8ff;border: 1px dotted black;border-radius: 0.25em;box-sizing: border-box;margin-bottom: 0.5em;}#sk-container-id-2 div.sk-estimator:hover {background-color: #d4ebff;}#sk-container-id-2 div.sk-parallel-item::after {content: \"\";width: 100%;border-bottom: 1px solid gray;flex-grow: 1;}#sk-container-id-2 div.sk-label:hover label.sk-toggleable__label {background-color: #d4ebff;}#sk-container-id-2 div.sk-serial::before {content: \"\";position: absolute;border-left: 1px solid gray;box-sizing: border-box;top: 0;bottom: 0;left: 50%;z-index: 0;}#sk-container-id-2 div.sk-serial {display: flex;flex-direction: column;align-items: center;background-color: white;padding-right: 0.2em;padding-left: 0.2em;position: relative;}#sk-container-id-2 div.sk-item {position: relative;z-index: 1;}#sk-container-id-2 div.sk-parallel {display: flex;align-items: stretch;justify-content: center;background-color: white;position: relative;}#sk-container-id-2 div.sk-item::before, #sk-container-id-2 div.sk-parallel-item::before {content: \"\";position: absolute;border-left: 1px solid gray;box-sizing: border-box;top: 0;bottom: 0;left: 50%;z-index: -1;}#sk-container-id-2 div.sk-parallel-item {display: flex;flex-direction: column;z-index: 1;position: relative;background-color: white;}#sk-container-id-2 div.sk-parallel-item:first-child::after {align-self: flex-end;width: 50%;}#sk-container-id-2 div.sk-parallel-item:last-child::after {align-self: flex-start;width: 50%;}#sk-container-id-2 div.sk-parallel-item:only-child::after {width: 0;}#sk-container-id-2 div.sk-dashed-wrapped {border: 1px dashed gray;margin: 0 0.4em 0.5em 0.4em;box-sizing: border-box;padding-bottom: 0.4em;background-color: white;}#sk-container-id-2 div.sk-label label {font-family: monospace;font-weight: bold;display: inline-block;line-height: 1.2em;}#sk-container-id-2 div.sk-label-container {text-align: center;}#sk-container-id-2 div.sk-container {/* jupyter's `normalize.less` sets `[hidden] { display: none; }` but bootstrap.min.css set `[hidden] { display: none !important; }` so we also need the `!important` here to be able to override the default hidden behavior on the sphinx rendered scikit-learn.org. See: https://github.com/scikit-learn/scikit-learn/issues/21755 */display: inline-block !important;position: relative;}#sk-container-id-2 div.sk-text-repr-fallback {display: none;}</style><div id=\"sk-container-id-2\" class=\"sk-top-container\"><div class=\"sk-text-repr-fallback\"><pre>GridSearchCV(cv=5, estimator=ExtraTreesRegressor(),\n",
       "             param_grid={&#x27;bootstrap&#x27;: [False, True],\n",
       "                         &#x27;max_depth&#x27;: [1, 2, 3, 4, 5, 6, 7, 8, 9],\n",
       "                         &#x27;max_leaf_nodes&#x27;: [None, 1, 3, 5, 10],\n",
       "                         &#x27;min_samples_leaf&#x27;: [1, 2, 3, 4, 5, 6, 7, 8, 9],\n",
       "                         &#x27;min_samples_split&#x27;: [2, 3, 4, 5, 6, 7, 8, 9],\n",
       "                         &#x27;n_estimators&#x27;: [10, 50, 100]})</pre><b>In a Jupyter environment, please rerun this cell to show the HTML representation or trust the notebook. <br />On GitHub, the HTML representation is unable to render, please try loading this page with nbviewer.org.</b></div><div class=\"sk-container\" hidden><div class=\"sk-item sk-dashed-wrapped\"><div class=\"sk-label-container\"><div class=\"sk-label sk-toggleable\"><input class=\"sk-toggleable__control sk-hidden--visually\" id=\"sk-estimator-id-4\" type=\"checkbox\" ><label for=\"sk-estimator-id-4\" class=\"sk-toggleable__label sk-toggleable__label-arrow\">GridSearchCV</label><div class=\"sk-toggleable__content\"><pre>GridSearchCV(cv=5, estimator=ExtraTreesRegressor(),\n",
       "             param_grid={&#x27;bootstrap&#x27;: [False, True],\n",
       "                         &#x27;max_depth&#x27;: [1, 2, 3, 4, 5, 6, 7, 8, 9],\n",
       "                         &#x27;max_leaf_nodes&#x27;: [None, 1, 3, 5, 10],\n",
       "                         &#x27;min_samples_leaf&#x27;: [1, 2, 3, 4, 5, 6, 7, 8, 9],\n",
       "                         &#x27;min_samples_split&#x27;: [2, 3, 4, 5, 6, 7, 8, 9],\n",
       "                         &#x27;n_estimators&#x27;: [10, 50, 100]})</pre></div></div></div><div class=\"sk-parallel\"><div class=\"sk-parallel-item\"><div class=\"sk-item\"><div class=\"sk-label-container\"><div class=\"sk-label sk-toggleable\"><input class=\"sk-toggleable__control sk-hidden--visually\" id=\"sk-estimator-id-5\" type=\"checkbox\" ><label for=\"sk-estimator-id-5\" class=\"sk-toggleable__label sk-toggleable__label-arrow\">estimator: ExtraTreesRegressor</label><div class=\"sk-toggleable__content\"><pre>ExtraTreesRegressor()</pre></div></div></div><div class=\"sk-serial\"><div class=\"sk-item\"><div class=\"sk-estimator sk-toggleable\"><input class=\"sk-toggleable__control sk-hidden--visually\" id=\"sk-estimator-id-6\" type=\"checkbox\" ><label for=\"sk-estimator-id-6\" class=\"sk-toggleable__label sk-toggleable__label-arrow\">ExtraTreesRegressor</label><div class=\"sk-toggleable__content\"><pre>ExtraTreesRegressor()</pre></div></div></div></div></div></div></div></div></div></div>"
      ],
      "text/plain": [
       "GridSearchCV(cv=5, estimator=ExtraTreesRegressor(),\n",
       "             param_grid={'bootstrap': [False, True],\n",
       "                         'max_depth': [1, 2, 3, 4, 5, 6, 7, 8, 9],\n",
       "                         'max_leaf_nodes': [None, 1, 3, 5, 10],\n",
       "                         'min_samples_leaf': [1, 2, 3, 4, 5, 6, 7, 8, 9],\n",
       "                         'min_samples_split': [2, 3, 4, 5, 6, 7, 8, 9],\n",
       "                         'n_estimators': [10, 50, 100]})"
      ]
     },
     "execution_count": 50,
     "metadata": {},
     "output_type": "execute_result"
    }
   ],
   "source": [
    "param = {'bootstrap': [False,True], 'max_depth': [i for i in range(1,10)], 'max_leaf_nodes': [None, 1,3,5,10], 'min_samples_leaf': [i for i in range(1,10)], 'min_samples_split': [i for i in range(2,10)], 'n_estimators': [10,50,100]}\n",
    "gridSrcv = GridSearchCV(etsr, param_grid= param, cv= 5, refit=True)\n",
    "gridSrcv.fit(X_train,y_train)\n"
   ]
  },
  {
   "cell_type": "code",
   "execution_count": 52,
   "metadata": {},
   "outputs": [
    {
     "name": "stdout",
     "output_type": "stream",
     "text": [
      "r2_score 0.689\n",
      "rmse: 39.635\n",
      "best_model: ExtraTreesRegressor(max_depth=9, min_samples_leaf=2, min_samples_split=4)\n"
     ]
    }
   ],
   "source": [
    "best_model= gridSrcv.best_estimator_\n",
    "pred = best_model.predict(X_test)\n",
    "print(f'r2_score {round(r2_score(pred,y_test),3)}')\n",
    "print(f'rmse: {round(np.sqrt(mean_squared_error(pred, y_test)),3)}')\n",
    "print(f'best_model: {gridSrcv.best_estimator_}')"
   ]
  },
  {
   "attachments": {},
   "cell_type": "markdown",
   "metadata": {},
   "source": [
    "#### 위의 model이 높은 score를 기록함."
   ]
  },
  {
   "cell_type": "code",
   "execution_count": 108,
   "metadata": {},
   "outputs": [
    {
     "name": "stdout",
     "output_type": "stream",
     "text": [
      "       id  hour  hour_bef_temperature  hour_bef_precipitation  \\\n",
      "653  1943    19                   NaN                     NaN   \n",
      "\n",
      "     hour_bef_windspeed  hour_bef_humidity  hour_bef_visibility  \\\n",
      "653                 NaN                NaN                  NaN   \n",
      "\n",
      "     hour_bef_ozone  hour_bef_pm10  hour_bef_pm2.5  \n",
      "653             NaN            NaN             NaN  \n",
      "<class 'pandas.core.frame.DataFrame'>\n",
      "RangeIndex: 715 entries, 0 to 714\n",
      "Data columns (total 8 columns):\n",
      " #   Column                  Non-Null Count  Dtype  \n",
      "---  ------                  --------------  -----  \n",
      " 0   hour                    715 non-null    float64\n",
      " 1   hour_bef_temperature    715 non-null    float64\n",
      " 2   hour_bef_precipitation  715 non-null    float64\n",
      " 3   hour_bef_windspeed      715 non-null    float64\n",
      " 4   hour_bef_humidity       715 non-null    float64\n",
      " 5   hour_bef_visibility     715 non-null    float64\n",
      " 6   hour_bef_ozone          715 non-null    float64\n",
      " 7   hour_bef_pm10           715 non-null    float64\n",
      "dtypes: float64(8)\n",
      "memory usage: 44.8 KB\n"
     ]
    },
    {
     "data": {
      "text/plain": [
       "(715, 8)"
      ]
     },
     "execution_count": 108,
     "metadata": {},
     "output_type": "execute_result"
    }
   ],
   "source": [
    "#test데이터를 적용해보자\n",
    "ttareun_data_test = pd.read_csv('test.csv')\n",
    "print(ttareun_data_test[ttareun_data_test['hour_bef_temperature'].isnull() == True])\n",
    "#ttareun_data_test = ttareun_data_test.drop(ttareun_data[ttareun_data.hour_bef_temperature.isnull() == True].index)\n",
    "#ttareun_data_test.drop(ttareun_data_test[ttareun_data_test['hour_bef_temperature'].isnull() ==True].index,inplace=True)\n",
    "\n",
    "#남은 결측치 대체\n",
    "#하기 전에 id와 index는 삭제\n",
    "ttareun_test_df = ttareun_data_test.drop(['id','hour_bef_pm2.5'],axis=1)\n",
    "#나머지 결측치 대체  IterativeImputer \n",
    "imputer = IterativeImputer()\n",
    "ttareun_data_test_fill_na_array = imputer.fit_transform(ttareun_test_df)\n",
    "ttareun_test_df = pd.DataFrame(ttareun_data_test_fill_na_array,columns=ttareun_test_df.columns)\n",
    "ttareun_test_df.info()\n",
    "#StandardScaling\n",
    "ss = StandardScaler()\n",
    "feature_fit = ss.fit_transform(ttareun_test_df)\n",
    "feature_fit.shape\n",
    "#allset()\n",
    "\n"
   ]
  },
  {
   "cell_type": "code",
   "execution_count": 76,
   "metadata": {},
   "outputs": [],
   "source": [
    "submission= pd.read_csv('../Ttareun/sub/submission.csv')\n",
    "submission['count'] = etsr.predict(feature_fit)\n",
    "submission.to_csv('submission.csv')"
   ]
  },
  {
   "cell_type": "code",
   "execution_count": 72,
   "metadata": {},
   "outputs": [],
   "source": [
    "submission= pd.read_csv('../sub/submission')\n",
    "submission['count'] = best_model.predict(feature_fit)\n",
    "submission.to_csv('submission.csv')"
   ]
  },
  {
   "cell_type": "code",
   "execution_count": 109,
   "metadata": {},
   "outputs": [
    {
     "name": "stdout",
     "output_type": "stream",
     "text": [
      "[ 29.68 164.28  84.5   13.6   63.39 145.64  39.92 109.23  51.32  93.5\n",
      "  93.86  25.22  11.87  38.46  56.8   86.34 108.38 162.09  19.95  99.32\n",
      " 121.91  91.38  18.91 227.42  20.16 221.7   32.74  45.83 213.76  90.29\n",
      " 262.4   30.64 155.68 154.14  91.97  16.99  15.04  24.56  89.06  75.74\n",
      "  70.96  65.59 114.36  15.79  30.02  33.73 247.17 167.61 134.69  33.8\n",
      "  28.5   82.87  27.79 112.63 131.3  154.9   12.61 244.58 105.05 190.57\n",
      " 249.25  18.75  97.65  25.52  20.37 149.88  27.11 208.2  211.45 196.39\n",
      "  90.11 121.21  85.14 181.4  179.29  98.01  17.33 188.25 242.92  19.54\n",
      " 158.46 129.54 108.6  105.78 117.23   8.44 126.4  139.29 180.95 158.67\n",
      "  69.75  14.62 205.83  79.52  50.55 114.09 138.44 169.88  14.75  88.56\n",
      "  83.98  36.24  84.31 250.66 197.89 291.39  24.57 137.51   9.55 178.28\n",
      " 196.87 135.32  12.1   20.49  95.52  26.56  12.4  113.73  23.66  24.13\n",
      " 162.98 218.76  19.05 145.17  76.7   93.43  98.72 134.02 152.56  49.21\n",
      "  81.77  16.38 109.54 290.88  70.82 102.77 144.79  84.23 200.96 109.68\n",
      " 145.46 110.47  16.12 187.88 128.73 216.05 148.54  66.74  15.27  95.74\n",
      " 148.05  27.55 249.06  97.26 190.58 119.18 225.6   73.86  92.7  245.21\n",
      "  31.06 189.36  77.74  81.68 225.62 179.31 130.07 141.68 167.72  55.7\n",
      " 142.11  28.35 128.45 127.6   18.97  17.48 114.38 295.34  35.08  70.33\n",
      "  21.68  54.57  24.17  36.94  98.39  83.31 205.26  88.7    9.97 106.59\n",
      " 107.97 162.2   32.36 180.11 306.91  18.91 158.77  22.64  86.12 147.27\n",
      "  60.26 219.92 129.17  61.94 103.48 196.81 121.48 105.29 238.25 155.91\n",
      " 144.29 148.59  98.86 118.91 182.37  41.14  91.25  99.45  97.38  45.01\n",
      "  13.08 232.48 274.27  49.26  42.06 202.43  26.54  48.23  11.5  219.38\n",
      "  96.72 104.56  42.29 124.4   22.02 282.15 258.75  86.53 133.05 127.33\n",
      "  20.66  11.16 184.74  66.19  32.38 225.03 149.44 134.89  25.29 165.26\n",
      "  59.67  52.08 102.99 115.96  46.23  25.37  99.49 187.36 117.79 326.84\n",
      " 231.83 113.87 159.35  72.52 176.61  18.89  36.85  88.54  11.12 178.31\n",
      "  20.92 159.97  60.25 193.08 167.13 288.15 149.3  123.55 176.58 257.09\n",
      "  90.51 106.07 134.84 290.91 168.42  24.74 203.44  18.99 186.03 182.24\n",
      "  37.43 197.28]\n",
      "1600.3186503424658\n"
     ]
    }
   ],
   "source": [
    "rf = RandomForestRegressor(n_estimators=100)\n",
    "rf.fit(X_train, y_train)\n",
    "pred=rf.predict(X_test)\n",
    "r2_score(pred,y_test)\n",
    "print(pred)\n",
    "print(mean_squared_error(pred,y_test))\n",
    "submission= pd.read_csv('../Ttareun/sub/submission.csv')\n",
    "submission['count'] = rf.predict(feature_fit)\n",
    "submission.to_csv('submission.csv')"
   ]
  },
  {
   "cell_type": "code",
   "execution_count": null,
   "metadata": {},
   "outputs": [],
   "source": []
  }
 ],
 "metadata": {
  "kernelspec": {
   "display_name": "base",
   "language": "python",
   "name": "python3"
  },
  "language_info": {
   "codemirror_mode": {
    "name": "ipython",
    "version": 3
   },
   "file_extension": ".py",
   "mimetype": "text/x-python",
   "name": "python",
   "nbconvert_exporter": "python",
   "pygments_lexer": "ipython3",
   "version": "3.9.16"
  },
  "orig_nbformat": 4
 },
 "nbformat": 4,
 "nbformat_minor": 2
}
