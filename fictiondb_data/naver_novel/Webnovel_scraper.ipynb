{
 "cells": [
  {
   "cell_type": "markdown",
   "id": "98729e50",
   "metadata": {},
   "source": []
  },
  {
   "cell_type": "code",
   "execution_count": 29,
   "id": "bfbb8362-7bd7-40f5-8289-44c1e1f7057b",
   "metadata": {
    "tags": []
   },
   "outputs": [],
   "source": [
    "from selenium import webdriver\n",
    "import pandas as pd\n",
    "from webdriver_manager.chrome import ChromeDriverManager\n",
    "from bs4 import BeautifulSoup as bs\n",
    "import googletrans\n",
    "import time\n",
    "import numpy as np\n",
    "import csv\n",
    "import os\n",
    "\n",
    "import requests\n",
    "import json\n",
    "\n",
    "import urllib.request\n",
    "import json\n",
    "\n"
   ]
  },
  {
   "cell_type": "code",
   "execution_count": 2,
   "id": "b495bce4-e070-4c5b-b824-8b78c8cccdc2",
   "metadata": {},
   "outputs": [],
   "source": [
    "translator = googletrans.Translator()\n",
    "# temp = translator.translate(e.text, dest='ko')\n",
    "# htmls = requests.get()\n",
    "driver = webdriver.Chrome(ChromeDriverManager().install())"
   ]
  },
  {
   "cell_type": "markdown",
   "id": "b0ff39c6-4640-4619-8eb4-1e087d2f4ccb",
   "metadata": {},
   "source": [
    "# Papago"
   ]
  },
  {
   "cell_type": "code",
   "execution_count": 32,
   "id": "9dd56ef4-21c8-4d41-8d64-f0c2a95beac1",
   "metadata": {},
   "outputs": [],
   "source": [
    "def papago(text):\n",
    "    client_id = \"3cpmjj5fb5\"\n",
    "    client_secret = \"ySoVv7Rqkp8rzLyPl89fgPkxNmGkrUcFXBJjXDWv\"\n",
    "    custom_dict = \"111351d0-b3de-4cf8-8d59-5c05b50c988f\"\n",
    "    encText = urllib.parse.quote(text)\n",
    "    data = \"source=en&target=ko&glossaryKey=\" + custom_dict  + \"&text=\" + encText\n",
    "\n",
    "    url = \"https://naveropenapi.apigw.ntruss.com/nmt/v1/translation\"\n",
    "    request = urllib.request.Request(url)\n",
    "    request.add_header(\"X-NCP-APIGW-API-KEY-ID\",client_id)\n",
    "    request.add_header(\"X-NCP-APIGW-API-KEY\",client_secret)\n",
    "    response = urllib.request.urlopen(request, data=data.encode(\"utf-8\"))\n",
    "    rescode = response.getcode()\n",
    "    if(rescode==200):\n",
    "        response_body = response.read()\n",
    "        result = response_body.decode('utf-8')\n",
    "        d = json.loads(result)\n",
    "        return(d['message']['result']['translatedText'])\n",
    "        # return (response_body.decode('utf-8'))\n",
    "        # return (type(response_body.decode('utf-8')))\n",
    "    else:\n",
    "        return (\"Error Code:\" + rescode)\n",
    "    "
   ]
  },
  {
   "cell_type": "code",
   "execution_count": null,
   "id": "fb0d5945-cc98-4e05-89eb-872285dc00c7",
   "metadata": {},
   "outputs": [],
   "source": []
  },
  {
   "cell_type": "code",
   "execution_count": 4,
   "id": "16809690-df93-491e-8f82-08179f507c89",
   "metadata": {
    "tags": []
   },
   "outputs": [
    {
     "name": "stdout",
     "output_type": "stream",
     "text": [
      "{'@context': 'https://schema.org', '@type': 'Book', 'mainEntityOfPage': 'https://www.webnovel.com/book/reincarnated-with-the-strongest-system_19720038005035905', 'headline': 'Reincarnated With The Strongest System', 'name': 'Reincarnated With The Strongest System', 'genre': 'Fantasy', 'image': {'@type': 'ImageObject', 'url': '//img.webnovel.com/bookcover/19720038005035905/150/150.jpg?coverUpdateTime=1671718712705&amp;imageMogr2/quality/80', 'height': 424, 'width': 300}, 'bookFormat': 'https://schema.org/EBook', 'datePublished': '2021-04-01T02:09:17.000Z', 'dateModified': '2023-01-31T23:14:39.000Z', 'author': {'@type': 'Person', 'name': 'Elyon'}, 'copyrightHolder': 'Elyon / Webnovel', 'publisher': {'@type': 'Organization', 'name': 'Webnovel', 'logo': {'@type': 'ImageObject', 'url': 'https://www.yueimg.com/overseam/img/common/logo.3cebb.png', 'width': 300}}, 'description': '“Darkness cannot drive out darkness, only Light can do that,&#34; the Goddess Amalthea said as she held William in her loving embrace. &#34;Hate cannot drive out hate, only Love can do that.” In order to help his little brothers and sisters at the orphanage, and save the person he loves, William decided to make the ultimate sacrifice.This selfless act moved the hearts of the Gods into gifting William the opportunity to enter the Cycle of Reincarnation with their blessings. Together with his Mama Ella, and a herd of goats, William embarks on a new journey to find the meaning of happiness in his new life.In a world of Swords and Magic, where adventures roam wild and free, the tale of the Legendary Shepherd is about to begin![Disclaimer: You might get addicted reading this story.]Join me in discord!https://discord.gg/TfGXzH8H----Feel free to check out my other story!&#34;Strongest Necromancer of Heaven&#39;s Gate&#34;-----If you are sick and tired of reading the same old isekai, reincarnation, system, and OP MC&#39;s then this novel will give you a breath of fresh air.So...Prepare yourself to read a story you&#39;ve never read before. Prepare yourself to feel things you&#39;ve never felt before.I&#39;ll wait for you in the latest chapters!----Check out my other novel! Strongest Necromancer of Heaven&#39;s Gatehttps://www.webnovel.com/book/the-prince-of-heaven&#39;s-gate---last-stand-at-world&#39;s-end_23118184405032305P.S I would like to thank my editor RedPandaChick for always being there to help me with the edits of my story.Special thanks to Eranoth for helping me Fine-Tune the novel to make it more consistent and less chaotic.-----', 'aggregateRating': {'@type': 'AggregateRating', 'bestRating': '5.0', 'ratingValue': '4.73', 'ratingCount': '529'}, 'review': [{'@type': 'Review', 'author': {'@type': 'Person', 'name': 'Eldot'}, 'datePublished': '2021-11-16T16:50:52.000Z', 'reviewBody': 'TLDR: This is one of the best novels I have ever read. If you are comfortable with all of the tags on this book, I strongly urge you to read it as well.Long Version: At 501 chapters as of reviewing this work, this is one of the best written, planned, and executed novels I have ever read. While action, systems, magic, abilities, romance, love, and harems can be difficult to write well this is a master craft in not only exectuing all of them, but combining them into a tale that is funny, heartwarming, fear inducing, and constantly evolving. The 18+ sections and potentially traumatic sections are marked well so that people not interested can skip them without missing too much context, while used effectively to inform the reader about characters moral such as those who do and do not ask for consent in romantic and sexual moments.The characters are rich and three dimensional, ever character of importance has goals, dreams, and acts based upon them rather than being only plot devices. It feels like a developed world that we are just following this protagonist through. Each battle has a purpose, every person has a role to play, however short, and theg come together to create a story unlike any I have read.The fights, abilities, and system are some of the best as well. They make sense in context of use, fights are one by picking good strategies and taking risks as necessary. Growth is observed Often through battles as well as time skips to center on the most important moments.This is to the stories credit, as some novels feel extra long to make more money when barely anything happens or changes from the readers perspective. This novel has every word count, they all are important to the story whether for laughs, or to inspire awe. I have never felt that my money was spent for nothing. However that does not mean that the author barrels through things, rather they take their time at the moments that matter, and allow characters room to breathe, grow, and understand their relationships. There are very few novels I have read throughout my life that I hold this esteem for, and most of them are fantasy classics. If after reading this review you are still unsure I urge you to at least try the free chapters, and see if it is for you. I truly hope you enjoy this book, and that you grow to love it just as much as I do.I will be sure to update this every 500 chapters or so as long as I am reading. Thank you, author, for this book, and looking forward to reading more!', 'reviewRating': {'@type': 'Rating', 'ratingValue': '5'}}, {'@type': 'Review', 'author': {'@type': 'Person', 'name': 'SHOUYO_HINATA'}, 'datePublished': '2022-06-04T08:01:30.000Z', 'reviewBody': 'To the authorThank you for writing such a great novel I have just finish reading chapter 1000 and out of curiosity I visited your profile and read your another book and also some of your reply to your reviews in one of the reviews you wrote that this novel is going to end quickly please don&#39;t let it end I am your and this novels fan... I have read many novels but this one stuck to my heart thank you for letting me experience such a great novel May your life be filled with happiness I hope someday I also write novels as great as you on that note can you please recommend me some of the novels that you like I have a read both of your novels can you please recommend me some more thank you thank you and thank you again for this wonderful work of art', 'reviewRating': {'@type': 'Rating', 'ratingValue': '5'}}, {'@type': 'Review', 'author': {'@type': 'Person', 'name': 'ImAcrazyREADER'}, 'datePublished': '2023-01-13T16:25:58.000Z', 'reviewBody': 'Review after reading 1400+ chapters...nonstop...kekekekek....Disclaimer: It really is addicting just like the author says.I stopped reading other novels just so that i could catch up with this novel and man....i gotta admit that it was worth it. I am looking forward to next chapters author-san. Seems like this novel is ending which makes me sad cuz i&#39;m gonna miss them(William and his group).I wish Author-san would write their next generations as well.', 'reviewRating': {'@type': 'Rating', 'ratingValue': '5'}}, {'@type': 'Review', 'author': {'@type': 'Person', 'name': 'Michael_Johnson_2658'}, 'datePublished': '2021-08-30T09:02:10.000Z', 'reviewBody': 'I hate doing reviews and writing these are a pain. There are only three (now four) authors I am willing to write one for. The story has amazing development and some parts that are really funny. The progression is not slow nor fast you actually feel like you are growing alongside the character. Along with that fact the character is not over powered at all in the beginning, he has the abilities but there useless unless he actually trains and becomes adept. I never experienced such an amazing story with a very well rounded plot. Over all I would recommend this book to all. I have a lot of respect and love for this book and can not wait for it to really bloom and I hope any who read this comment will join me in this amazing journey. ', 'reviewRating': {'@type': 'Rating', 'ratingValue': '5'}}, {'@type': 'Review', 'author': {'@type': 'Person', 'name': 'Elyon'}, 'datePublished': '2021-04-02T03:07:59.000Z', 'reviewBody': 'Shameless author here, giving myself a shameless review. If you are looking for a story withFunny MCBeautiful Girls.FluffComedyAction.AdventureRomance.Game ElementsSystemReincarnationEcchi ScenesPure AwesomenessAnd one of a kind Epicness then this is the story that you are looking for!Open the pages that will bring you to a world where adventure runs wild and free. Follow William as he embarks on a journey to live the life that he had always longed for in his dreams.', 'reviewRating': {'@type': 'Rating', 'ratingValue': '5'}}], 'potentialAction': {'@type': 'ReadAction', 'target': {'@type': 'EntryPoint', 'urlTemplate': 'https://www.webnovel.com/book/reincarnated-with-the-strongest-system_19720038005035905/i%E2%80%99m-going-ahead-first%E2%80%A6-don%E2%80%99t-miss-me-too-much_52935834931880667'}}}\n"
     ]
    }
   ],
   "source": [
    "driver.get('https://www.webnovel.com/book/reincarnated-with-the-strongest-system_19720038005035905')\n",
    "res = driver.find_elements_by_xpath('//script[@type=\"application/ld+json\"]')[1]\n",
    "\n",
    "aaa = res.get_attribute(\"innerHTML\")\n",
    "aaa = aaa.replace('\\n', '')\n",
    "info_result = json.loads(aaa, strict=False)\n",
    "# aaa = aaa.replace(' ', '')\n",
    "# print(aaa)\n",
    "# aaa = aaa.replace('},\\n{', '}\\n{')\n",
    "# bbb = aaa.split(\"\\n\")\n",
    "# print(bbb[1])\n",
    "\n",
    "\n",
    "# print(aaa)\n",
    "# print(aaa[:50])\n",
    "# print(aaa.rstrip(']').lstrip('[')[:50])\n",
    "\n",
    "\n",
    "\n",
    "info_result[0]['name']\n",
    "# print(info_result[0])\n",
    "\n",
    "# jsons = []\n",
    "# for line in aaa:\n",
    "#     jsons.append(json.loads(line), strict=False)\n",
    "    \n",
    "# jsons\n",
    "\n",
    "# def getGroups(s):\n",
    "#     current = ''\n",
    "#     count = 0\n",
    "#     for c in s:\n",
    "#         if c == '{':\n",
    "#             count += 1\n",
    "#         elif c == '}':\n",
    "#             count -=1 \n",
    "#         current += c\n",
    "#         if count == 0:\n",
    "#             yield current\n",
    "#             current = ''\n",
    "\n",
    "# [json.loads(js) for js in getGroups(aaa)]\n",
    "\n",
    "\n",
    "# tempA ='{\"name\":\"hyen\", \"age\":\"18\"}'\n",
    "# json.loads(tempA)\n",
    "# res.GetAttribute(\"innerHTML\");\n",
    "\n",
    "# aaa.find(\"\\n\")"
   ]
  },
  {
   "cell_type": "code",
   "execution_count": 5,
   "id": "6200aab3-0e19-4eb7-8d77-3293d456d588",
   "metadata": {},
   "outputs": [],
   "source": [
    "# def get_info_box(url):\n",
    "    "
   ]
  },
  {
   "cell_type": "code",
   "execution_count": 6,
   "id": "e2055ab0-7947-4982-93a8-4b3297104fdb",
   "metadata": {},
   "outputs": [],
   "source": [
    "# ccc = \"[abc[]defg]\"\n",
    "# print(ccc.rstrip(']').lstrip('['))"
   ]
  },
  {
   "cell_type": "markdown",
   "id": "e1a12920-a007-4318-9355-aefa5325f939",
   "metadata": {},
   "source": [
    "# Scraping main"
   ]
  },
  {
   "cell_type": "code",
   "execution_count": 37,
   "id": "af0ebced-871b-4c99-9195-9fe16e62bc78",
   "metadata": {},
   "outputs": [],
   "source": [
    "def scrape(url):\n",
    "    result = {}\n",
    "    \n",
    "    res = driver.get(url)\n",
    "    \n",
    "    ### 동적추출\n",
    "    target = driver.find_elements_by_xpath('//script[@type=\"application/ld+json\"]')[1]\n",
    "\n",
    "    raw_json = target.get_attribute(\"innerHTML\")\n",
    "    raw_json = raw_json.replace('\\n', '')\n",
    "    info_box_result = json.loads(raw_json, strict=False)\n",
    "    \n",
    "    result['startDate'] = info_box_result[0]['datePublished']\n",
    "    result['original'] = info_box_result[0]['mainEntityOfPage']\n",
    "    \n",
    "    \n",
    "    ### 정적추출\n",
    "    htmls = requests.get(url, headers={'User-Agent': 'Mozilla/5.0'})\n",
    "    bsObject = bs(htmls.content, 'html.parser')\n",
    "    \n",
    "  \n",
    " \n",
    "    title = bsObject.find('h1').text\n",
    "    result['title'] = title\n",
    "    print(title, papago(title))\n",
    "    \n",
    "    \n",
    "    result['author'] =bsObject.select_one('body > div.page > div.det-hd.mb48 > div > div > div._mn.g_col._8.pr > address > h2 > a').text\n",
    "    # print(author.text)\n",
    "    \n",
    "    result['genre'] = bsObject.select_one('body > div.page > div.det-hd.mb48 > div > div > div._mn.g_col._8.pr > h2 > a > span').text\n",
    "    # print(genre.text)\n",
    "    \n",
    "    result['synopsis'] = driver.find_element_by_xpath('//*[@id=\"about\"]/div[1]/div[1]/p').text\n",
    "    # print(synopsis.text)\n",
    "    \n",
    "    #태그     \n",
    "    tags = bsObject.select('#about > div.j_tagWrap > div > div.m-tags > p')\n",
    "    tags_result = []\n",
    "    for tag in tags:\n",
    "        tags_result.append(tag.text.replace(\"#\", \"\").strip())\n",
    "    result['tags'] = tags_result\n",
    "    \n",
    "    #파일 저장\n",
    "    if os.path.isfile('data.json'):\n",
    "        with open('data.json', 'r')as f:\n",
    "            info = json.load(f)\n",
    "        info['data'].append(result)\n",
    "        with open('data.json', 'w')as f:\n",
    "            json.dump(info, f)\n",
    "    else :\n",
    "        with open('data.json', 'w')as f:\n",
    "            root = {\"data\": [result]}\n",
    "            json.dump(root, f)\n",
    "    return;"
   ]
  },
  {
   "cell_type": "code",
   "execution_count": 38,
   "id": "026b0694-1e01-4506-88e4-d7bb27cceb29",
   "metadata": {},
   "outputs": [
    {
     "name": "stdout",
     "output_type": "stream",
     "text": [
      "Reincarnated With The Strongest System RWTSS 최강의 시스템 RWTS로 환생\n"
     ]
    }
   ],
   "source": [
    "scraped_result = scrape('https://www.webnovel.com/book/reincarnated-with-the-strongest-system_19720038005035905')"
   ]
  },
  {
   "cell_type": "code",
   "execution_count": 9,
   "id": "3f36e4d5-2936-4421-848d-843da9864e6a",
   "metadata": {},
   "outputs": [
    {
     "data": {
      "text/plain": [
       "'null'"
      ]
     },
     "execution_count": 9,
     "metadata": {},
     "output_type": "execute_result"
    }
   ],
   "source": [
    "json.dumps(scraped_result, indent=4)"
   ]
  },
  {
   "cell_type": "code",
   "execution_count": 10,
   "id": "ea67be03-e3a2-4e42-991f-f4105b0f446b",
   "metadata": {},
   "outputs": [],
   "source": [
    "# with open('data.json', 'w')as f:\n",
    "#     json.dump(scraped_result,f,indent=4)"
   ]
  },
  {
   "cell_type": "code",
   "execution_count": 11,
   "id": "f4bcdbb0-f3d6-4450-aeab-30d8b7eb8e3b",
   "metadata": {},
   "outputs": [],
   "source": [
    "# aaa = driver.find_elements_by_xpath('//script[@type=\"application/ld+json\"]')\n",
    "# for item in aaa:\n",
    "#     print(item)"
   ]
  },
  {
   "cell_type": "code",
   "execution_count": null,
   "id": "deb2ed52-6396-400f-bcfb-a7165976b636",
   "metadata": {},
   "outputs": [],
   "source": [
    "\n",
    "    "
   ]
  },
  {
   "cell_type": "code",
   "execution_count": 12,
   "id": "037907c5-d117-42f7-bb57-382a555882ea",
   "metadata": {},
   "outputs": [],
   "source": [
    "# with open('data.json', \"r\") as json_file:\n",
    "    # json_data = json.load(json_file)\n",
    "    # print(json_data)"
   ]
  },
  {
   "cell_type": "code",
   "execution_count": 13,
   "id": "2f034f38-e41e-4e94-8e06-1f3a353c2872",
   "metadata": {},
   "outputs": [],
   "source": [
    "# aaa = driver.find_elements_by_xpath('//script[@type=\"application/ld+json\"]')\n",
    "# for item in drvier:\n",
    "#     print(item)"
   ]
  },
  {
   "cell_type": "code",
   "execution_count": null,
   "id": "6a0a47de-2989-44b7-b760-eff4033f4ac8",
   "metadata": {},
   "outputs": [],
   "source": []
  },
  {
   "cell_type": "code",
   "execution_count": 14,
   "id": "26f1a6d2-63da-4263-bb28-d652a64031b0",
   "metadata": {},
   "outputs": [],
   "source": [
    "tempa = {\"data\" : [{\"a\": 1, \"b\": 2},{\"a\": 3, \"b\": 4}]}"
   ]
  },
  {
   "cell_type": "code",
   "execution_count": 15,
   "id": "db653679-0fc2-47d9-a25b-2fb895964a5e",
   "metadata": {},
   "outputs": [
    {
     "data": {
      "text/plain": [
       "'[{\"a\": 1, \"b\": 2}, {\"a\": 3, \"b\": 4}, {\"a\": 5, \"b\": 6}]'"
      ]
     },
     "execution_count": 15,
     "metadata": {},
     "output_type": "execute_result"
    }
   ],
   "source": [
    "tempa[\"data\"].append({\"a\": 5, \"b\": 6})\n",
    "json.dumps(tempa[\"data\"])"
   ]
  },
  {
   "cell_type": "code",
   "execution_count": null,
   "id": "55ccbb8c-7ec1-49bb-8ab7-4133de7c3c04",
   "metadata": {},
   "outputs": [],
   "source": []
  },
  {
   "cell_type": "code",
   "execution_count": null,
   "id": "ed474d74-58c1-4caf-b1fa-b0c8d1893cb7",
   "metadata": {},
   "outputs": [],
   "source": []
  }
 ],
 "metadata": {
  "kernelspec": {
   "display_name": "Python 3",
   "language": "python",
   "name": "python3"
  },
  "language_info": {
   "codemirror_mode": {
    "name": "ipython",
    "version": 3
   },
   "file_extension": ".py",
   "mimetype": "text/x-python",
   "name": "python",
   "nbconvert_exporter": "python",
   "pygments_lexer": "ipython3",
   "version": "3.10.9"
  },
  "vscode": {
   "interpreter": {
    "hash": "1a93258d074cff7a4304280659ce4c88e4ff8706dc7cd4f9e5f95fdd2bb6cc7c"
   }
  }
 },
 "nbformat": 4,
 "nbformat_minor": 5
}
